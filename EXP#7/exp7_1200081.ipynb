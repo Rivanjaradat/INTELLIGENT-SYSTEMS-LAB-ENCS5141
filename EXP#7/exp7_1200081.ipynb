{
  "nbformat": 4,
  "nbformat_minor": 0,
  "metadata": {
    "colab": {
      "provenance": [],
      "gpuType": "T4"
    },
    "kernelspec": {
      "name": "python3",
      "display_name": "Python 3"
    },
    "language_info": {
      "name": "python"
    },
    "accelerator": "GPU"
  },
  "cells": [
    {
      "cell_type": "markdown",
      "source": [
        "# 1.1 Tensors\n",
        "Tensors are a specialized data structure that are very similar to arrays and matrices.\n",
        "In PyTorch, we use tensors to encode the inputs and outputs of a model, as well\n",
        "as the model’s parameters. Tensors are similar to NumPy’s ndarrays, except that\n",
        "tensors can run on GPUs or other specialized hardware to accelerate computing.\n",
        "Let’s start by importing pytorch and numpy"
      ],
      "metadata": {
        "id": "uoPBoxOv0_9O"
      }
    },
    {
      "cell_type": "markdown",
      "source": [
        "## Tensor Initialization"
      ],
      "metadata": {
        "id": "PjPFvsGH1FdM"
      }
    },
    {
      "cell_type": "code",
      "source": [
        "#importing pytorch and numpy\n",
        "import torch\n",
        "import numpy as np"
      ],
      "metadata": {
        "id": "-DyOVuVK1L3j"
      },
      "execution_count": 45,
      "outputs": []
    },
    {
      "cell_type": "markdown",
      "source": [
        "Tensors can be initialized in various ways. Take a look at the following examples:\n",
        "1. Directly from data\n",
        "Tensors can be created directly from data. The data type is automatically\n",
        "inferred."
      ],
      "metadata": {
        "id": "CULYgnsV1Swo"
      }
    },
    {
      "cell_type": "code",
      "source": [
        "data = [[1, 2], [3, 4]]\n",
        "x_data = torch.tensor(data)"
      ],
      "metadata": {
        "id": "Z5-GH4jL1HnW"
      },
      "execution_count": 46,
      "outputs": []
    },
    {
      "cell_type": "markdown",
      "source": [
        "2. From a NumPy array\n",
        "Tensors can be created from NumPy arrays"
      ],
      "metadata": {
        "id": "AETDsSVd1jAQ"
      }
    },
    {
      "cell_type": "code",
      "source": [
        "np_array = np.array(data)\n",
        "x_np = torch.from_numpy(np_array)"
      ],
      "metadata": {
        "id": "GpQWOz_x1kgy"
      },
      "execution_count": 47,
      "outputs": []
    },
    {
      "cell_type": "markdown",
      "source": [
        "3. From another tensor:\n",
        "The new tensor retains the properties (shape, datatype) of the argument tensor,\n",
        "unless explicitly overridden."
      ],
      "metadata": {
        "id": "oT5vVztu1oi9"
      }
    },
    {
      "cell_type": "code",
      "execution_count": 48,
      "metadata": {
        "id": "PfiSAxRSUOX7",
        "colab": {
          "base_uri": "https://localhost:8080/"
        },
        "outputId": "8c5d108c-dbf4-486e-8ed5-aa8eecfc0df9"
      },
      "outputs": [
        {
          "output_type": "stream",
          "name": "stdout",
          "text": [
            "Ones Tensor: \n",
            " tensor([[1, 1],\n",
            "        [1, 1]]) \n",
            "\n",
            "Random Tensor: \n",
            " tensor([[0.3959, 0.8753],\n",
            "        [0.9338, 0.4203]]) \n",
            "\n"
          ]
        }
      ],
      "source": [
        "x_ones = torch.ones_like(x_data) # retains the properties of x_data\n",
        "print(f\"Ones Tensor: \\n {x_ones} \\n\")\n",
        "x_rand = torch.rand_like(x_data, dtype=torch.float) # overrides the datatype of x_data\n",
        "print(f\"Random Tensor: \\n {x_rand} \\n\")"
      ]
    },
    {
      "cell_type": "markdown",
      "source": [
        "4. With random or constant values:\n",
        "shape is a tuple of tensor dimensions. In the functions below, it determines the\n",
        "dimensionality of the output tensor."
      ],
      "metadata": {
        "id": "1p5Ky-y712sH"
      }
    },
    {
      "cell_type": "code",
      "source": [
        "shape = (2, 3,)\n",
        "rand_tensor = torch.rand(shape)\n",
        "ones_tensor = torch.ones(shape)\n",
        "zeros_tensor = torch.zeros(shape)\n",
        "print(f\"Random Tensor: \\n {rand_tensor} \\n\")\n",
        "print(f\"Ones Tensor: \\n {ones_tensor} \\n\")\n",
        "print(f\"Zeros Tensor: \\n {zeros_tensor}\")"
      ],
      "metadata": {
        "colab": {
          "base_uri": "https://localhost:8080/"
        },
        "id": "FxKUPsHQ14xT",
        "outputId": "e2eec209-d39e-42e0-9030-792f0c905cd2"
      },
      "execution_count": 49,
      "outputs": [
        {
          "output_type": "stream",
          "name": "stdout",
          "text": [
            "Random Tensor: \n",
            " tensor([[0.5403, 0.3580, 0.3986],\n",
            "        [0.2925, 0.1104, 0.8765]]) \n",
            "\n",
            "Ones Tensor: \n",
            " tensor([[1., 1., 1.],\n",
            "        [1., 1., 1.]]) \n",
            "\n",
            "Zeros Tensor: \n",
            " tensor([[0., 0., 0.],\n",
            "        [0., 0., 0.]])\n"
          ]
        }
      ]
    },
    {
      "cell_type": "markdown",
      "source": [
        "# Tensor Attributes"
      ],
      "metadata": {
        "id": "gOZtWLWt1_JQ"
      }
    },
    {
      "cell_type": "markdown",
      "source": [
        "Tensor attributes describe their shape, datatype, and the device on which they are\n",
        "stored."
      ],
      "metadata": {
        "id": "DWMMEAeB2AZt"
      }
    },
    {
      "cell_type": "code",
      "source": [
        "tensor = torch.rand(3, 4)\n",
        "print(f\"Shape of tensor: {tensor.shape}\")\n",
        "print(f\"Datatype of tensor: {tensor.dtype}\")\n",
        "print(f\"Device tensor is stored on: {tensor.device}\")"
      ],
      "metadata": {
        "colab": {
          "base_uri": "https://localhost:8080/"
        },
        "id": "rFrAow7T2E_c",
        "outputId": "ea4d96f5-3fe9-4ec6-d63a-c86033518a62"
      },
      "execution_count": 50,
      "outputs": [
        {
          "output_type": "stream",
          "name": "stdout",
          "text": [
            "Shape of tensor: torch.Size([3, 4])\n",
            "Datatype of tensor: torch.float32\n",
            "Device tensor is stored on: cpu\n"
          ]
        }
      ]
    },
    {
      "cell_type": "markdown",
      "source": [
        "# Tensor Operations"
      ],
      "metadata": {
        "id": "zFPLfxgW2IPa"
      }
    },
    {
      "cell_type": "markdown",
      "source": [
        "Over 100 tensor operations, including transposing, indexing, slicing, mathematical\n",
        "operations, linear algebra, random sampling, and more are described here.\n",
        "Each of them can be run on the GPU (at typically higher speeds than on a CPU). If\n",
        "you’re using Colab, allocate a GPU by going to Edit > Notebook Settings."
      ],
      "metadata": {
        "id": "yl2f4C3j2Qwj"
      }
    },
    {
      "cell_type": "code",
      "source": [
        "# We move our tensor to the GPU if available\n",
        "if torch.cuda.is_available():\n",
        "  tensor = tensor.to('cuda')\n",
        "  print(f\"Device tensor is stored on: {tensor.device}\")"
      ],
      "metadata": {
        "colab": {
          "base_uri": "https://localhost:8080/"
        },
        "id": "b7fMmicy2TxT",
        "outputId": "9cb7c897-3051-4625-c1e6-028fb0ed9318"
      },
      "execution_count": 51,
      "outputs": [
        {
          "output_type": "stream",
          "name": "stdout",
          "text": [
            "Device tensor is stored on: cuda:0\n"
          ]
        }
      ]
    },
    {
      "cell_type": "markdown",
      "source": [
        "Try out some of the operations from the list. If you’re familiar with the NumPy\n",
        "API, you’ll find the Tensor API a breeze to use.\n",
        "1. Standard numpy-like indexing and slicing:"
      ],
      "metadata": {
        "id": "NNPwI92f239Z"
      }
    },
    {
      "cell_type": "code",
      "source": [
        "tensor = torch.ones(4, 4)\n",
        "tensor[:,1] = 0\n",
        "print(tensor)"
      ],
      "metadata": {
        "id": "vSUKRT2c26DR",
        "colab": {
          "base_uri": "https://localhost:8080/"
        },
        "outputId": "d2fd1c9e-efd1-44bb-d815-24f9586f5c13"
      },
      "execution_count": 52,
      "outputs": [
        {
          "output_type": "stream",
          "name": "stdout",
          "text": [
            "tensor([[1., 0., 1., 1.],\n",
            "        [1., 0., 1., 1.],\n",
            "        [1., 0., 1., 1.],\n",
            "        [1., 0., 1., 1.]])\n"
          ]
        }
      ]
    },
    {
      "cell_type": "markdown",
      "source": [
        "2. Joining tensors\n",
        "You can use torch.cat to concatenate a sequence of tensors along a given\n",
        "dimension. See also torch.stack, another tensor joining op that is subtly\n",
        "different from torch.cat."
      ],
      "metadata": {
        "id": "yrpQQx9C281n"
      }
    },
    {
      "cell_type": "code",
      "source": [
        "t1 = torch.cat([tensor, tensor, tensor], dim=1)\n",
        "print(t1)"
      ],
      "metadata": {
        "id": "4MSRwNji2_r-",
        "colab": {
          "base_uri": "https://localhost:8080/"
        },
        "outputId": "ba526ecd-7273-41d8-a653-dabe2b1d76b8"
      },
      "execution_count": 53,
      "outputs": [
        {
          "output_type": "stream",
          "name": "stdout",
          "text": [
            "tensor([[1., 0., 1., 1., 1., 0., 1., 1., 1., 0., 1., 1.],\n",
            "        [1., 0., 1., 1., 1., 0., 1., 1., 1., 0., 1., 1.],\n",
            "        [1., 0., 1., 1., 1., 0., 1., 1., 1., 0., 1., 1.],\n",
            "        [1., 0., 1., 1., 1., 0., 1., 1., 1., 0., 1., 1.]])\n"
          ]
        }
      ]
    },
    {
      "cell_type": "markdown",
      "source": [
        "3. Multiplying tensors"
      ],
      "metadata": {
        "id": "PVqciFSy3DQ0"
      }
    },
    {
      "cell_type": "code",
      "source": [
        "# This computes the element-wise product\n",
        "print(f\"tensor.mul(tensor) \\n {tensor.mul(tensor)} \\n\")\n",
        "# Alternative syntax:\n",
        "print(f\"tensor * tensor \\n {tensor * tensor}\")"
      ],
      "metadata": {
        "id": "DtG6VR2a3GLb",
        "colab": {
          "base_uri": "https://localhost:8080/"
        },
        "outputId": "b57ab10a-283f-4c4d-93a9-5bb157d5f1cc"
      },
      "execution_count": 54,
      "outputs": [
        {
          "output_type": "stream",
          "name": "stdout",
          "text": [
            "tensor.mul(tensor) \n",
            " tensor([[1., 0., 1., 1.],\n",
            "        [1., 0., 1., 1.],\n",
            "        [1., 0., 1., 1.],\n",
            "        [1., 0., 1., 1.]]) \n",
            "\n",
            "tensor * tensor \n",
            " tensor([[1., 0., 1., 1.],\n",
            "        [1., 0., 1., 1.],\n",
            "        [1., 0., 1., 1.],\n",
            "        [1., 0., 1., 1.]])\n"
          ]
        }
      ]
    },
    {
      "cell_type": "code",
      "source": [
        "#This computes the matrix multiplication between two tensors.\n",
        "print(f\"tensor.matmul(tensor.T) \\n {tensor.matmul(tensor.T)} \\n\")\n",
        "# Alternative syntax:\n",
        "print(f\"tensor @ tensor.T \\n {tensor @ tensor.T}\")"
      ],
      "metadata": {
        "id": "E3gmp-4o3HU7",
        "colab": {
          "base_uri": "https://localhost:8080/"
        },
        "outputId": "185756ff-298e-445a-97c1-5801ce052fdc"
      },
      "execution_count": 55,
      "outputs": [
        {
          "output_type": "stream",
          "name": "stdout",
          "text": [
            "tensor.matmul(tensor.T) \n",
            " tensor([[3., 3., 3., 3.],\n",
            "        [3., 3., 3., 3.],\n",
            "        [3., 3., 3., 3.],\n",
            "        [3., 3., 3., 3.]]) \n",
            "\n",
            "tensor @ tensor.T \n",
            " tensor([[3., 3., 3., 3.],\n",
            "        [3., 3., 3., 3.],\n",
            "        [3., 3., 3., 3.],\n",
            "        [3., 3., 3., 3.]])\n"
          ]
        }
      ]
    },
    {
      "cell_type": "markdown",
      "source": [
        "4. In-place operations\n",
        "Operations that have a suffix are in-place. For example: x.copy (y), x.t (),\n",
        "will change x."
      ],
      "metadata": {
        "id": "3zhYrdi23Ptc"
      }
    },
    {
      "cell_type": "code",
      "source": [
        "print(tensor, \"\\n\")\n",
        "tensor.add_(5)\n",
        "print(tensor)"
      ],
      "metadata": {
        "id": "D0y0OiX93RTO",
        "colab": {
          "base_uri": "https://localhost:8080/"
        },
        "outputId": "072e76f7-2005-4562-8a4e-ee5d93ad907a"
      },
      "execution_count": 56,
      "outputs": [
        {
          "output_type": "stream",
          "name": "stdout",
          "text": [
            "tensor([[1., 0., 1., 1.],\n",
            "        [1., 0., 1., 1.],\n",
            "        [1., 0., 1., 1.],\n",
            "        [1., 0., 1., 1.]]) \n",
            "\n",
            "tensor([[6., 5., 6., 6.],\n",
            "        [6., 5., 6., 6.],\n",
            "        [6., 5., 6., 6.],\n",
            "        [6., 5., 6., 6.]])\n"
          ]
        }
      ]
    },
    {
      "cell_type": "markdown",
      "source": [
        "# Bridge with NumPy"
      ],
      "metadata": {
        "id": "C7IzKZBc3VEW"
      }
    },
    {
      "cell_type": "markdown",
      "source": [
        "Tensors on the CPU and NumPy arrays can share their underlying memory locations,\n",
        "and changing one will change the other.\n",
        "Tensor to NumPy array: A change in the tensor reflects in the NumPy array."
      ],
      "metadata": {
        "id": "qlpuKKZF3Yoc"
      }
    },
    {
      "cell_type": "code",
      "source": [
        "t = torch.ones(5)\n",
        "print(f\"t: {t}\")\n",
        "n = t.numpy()\n",
        "print(f\"n: {n}\")\n",
        "t.add_(1)\n",
        "print(f\"t: {t}\")\n",
        "print(f\"n: {n}\")"
      ],
      "metadata": {
        "id": "-a9nsouD3aaG",
        "colab": {
          "base_uri": "https://localhost:8080/"
        },
        "outputId": "ee917587-6065-427f-bb4f-1a14f4c354aa"
      },
      "execution_count": 57,
      "outputs": [
        {
          "output_type": "stream",
          "name": "stdout",
          "text": [
            "t: tensor([1., 1., 1., 1., 1.])\n",
            "n: [1. 1. 1. 1. 1.]\n",
            "t: tensor([2., 2., 2., 2., 2.])\n",
            "n: [2. 2. 2. 2. 2.]\n"
          ]
        }
      ]
    },
    {
      "cell_type": "markdown",
      "source": [
        "NumPy array to Tensor: Changes in the NumPy array reflects in the tensor."
      ],
      "metadata": {
        "id": "WfQRLwYS3cul"
      }
    },
    {
      "cell_type": "code",
      "source": [
        "n = np.ones(5)\n",
        "t = torch.from_numpy(n)\n",
        "np.add(n, 1, out=n)\n",
        "print(f\"t: {t}\")\n",
        "print(f\"n: {n}\")"
      ],
      "metadata": {
        "id": "yemoOP3Q3dVw",
        "colab": {
          "base_uri": "https://localhost:8080/"
        },
        "outputId": "670957a5-cf5e-4846-def2-055eafb5de60"
      },
      "execution_count": 58,
      "outputs": [
        {
          "output_type": "stream",
          "name": "stdout",
          "text": [
            "t: tensor([2., 2., 2., 2., 2.], dtype=torch.float64)\n",
            "n: [2. 2. 2. 2. 2.]\n"
          ]
        }
      ]
    },
    {
      "cell_type": "markdown",
      "source": [
        "# 1.2 A Gentle Introduction to torch.autograd"
      ],
      "metadata": {
        "id": "BkR-ZNzL3iLd"
      }
    },
    {
      "cell_type": "markdown",
      "source": [
        "torch.autograd is PyTorch’s automatic differentiation engine that powers neural\n",
        "network training. In this section, you will get a conceptual understanding of how\n",
        "autograd helps a neural network train.\n",
        "Background\n",
        "Neural networks (NNs) are a collection of nested functions that are executed on some\n",
        "input data. These functions are defined by parameters (consisting of weights and\n",
        "biases), which in PyTorch are stored in tensors.\n",
        "Training a NN happens in two steps:\n",
        "Forward Propagation: In forward prop, the NN makes its best guess about the correct\n",
        "output. It runs the input data through each of its functions to make this guess.\n",
        "Backward Propagation: In backprop, the NN adjusts its parameters proportionate to\n",
        "the error in its guess. It does this by traversing backwards from the output, collecting\n",
        "\n",
        "the derivatives of the error with respect to the parameters of the functions (gradi-\n",
        "ents), and optimizing the parameters using gradient descent."
      ],
      "metadata": {
        "id": "vOWVUhEx3jqq"
      }
    },
    {
      "cell_type": "markdown",
      "source": [
        "## Differentiation in Autograd\n",
        "Let’s take a look at how autograd collects gradients. We create two tensors a and b\n",
        "with requires grad=True. This signals to autograd that every operation on them\n",
        "should be tracked."
      ],
      "metadata": {
        "id": "xZBpFyJ43nTb"
      }
    },
    {
      "cell_type": "code",
      "source": [
        "import torch\n",
        "a = torch.tensor([2., 3.], requires_grad=True)\n",
        "b = torch.tensor([6., 4.], requires_grad=True)"
      ],
      "metadata": {
        "id": "P5lj2_Gi3sEO"
      },
      "execution_count": 59,
      "outputs": []
    },
    {
      "cell_type": "code",
      "source": [
        "# check if collected gradients are correct\n",
        "print(9*a**2 == a.grad)\n",
        "print(-2*b == b.grad)"
      ],
      "metadata": {
        "id": "Nd6__WBj304v",
        "colab": {
          "base_uri": "https://localhost:8080/"
        },
        "outputId": "77c7f7d1-5e45-4d2e-b14f-a4415dc51bfd"
      },
      "execution_count": 60,
      "outputs": [
        {
          "output_type": "stream",
          "name": "stdout",
          "text": [
            "False\n",
            "False\n"
          ]
        }
      ]
    },
    {
      "cell_type": "markdown",
      "source": [
        "Task 1: Use autograd to compute the gradients of Y w.r.t. x1 and x2 at the point\n",
        "(x1, x2) = (1, 1). Where\n",
        "\n",
        "Y = (3x1 − 2x2 − 2)2\n",
        ".\n",
        "Verify your results by computing the gradients analytically."
      ],
      "metadata": {
        "id": "Ask1Nv943uoj"
      }
    },
    {
      "cell_type": "code",
      "source": [
        "x1 = torch.tensor(1.0, requires_grad=True)\n",
        "x2 = torch.tensor(1.0, requires_grad=True)\n",
        "Y = (3*x1 - 2*x2 - 2)**2\n",
        "Y.backward()\n",
        "print(x1.grad)\n",
        "print(x2.grad)"
      ],
      "metadata": {
        "colab": {
          "base_uri": "https://localhost:8080/"
        },
        "id": "yHvv9Xl0flRi",
        "outputId": "676114d4-7ed5-467b-e002-7cf16b681919"
      },
      "execution_count": 61,
      "outputs": [
        {
          "output_type": "stream",
          "name": "stdout",
          "text": [
            "tensor(-6.)\n",
            "tensor(4.)\n"
          ]
        }
      ]
    },
    {
      "cell_type": "markdown",
      "source": [
        "# 1.3 Building Models with PyTorch"
      ],
      "metadata": {
        "id": "wm6tUaC7360F"
      }
    },
    {
      "cell_type": "markdown",
      "source": [
        "Neural networks can be constructed using the torch.nn package. Now that you had\n",
        "a glimpse of autograd, nn depends on autograd to define models and differentiate\n",
        "them. An nn.Module contains layers, and a method forward(input) that returns\n",
        "the output.\n",
        "A typical training procedure for a neural network is as follows:\n",
        "• Define the neural network that has some learnable parameters (or weights)\n",
        "• Iterate over a dataset of inputs\n",
        "• Process input through the network\n",
        "• Compute the loss (how far is the output from being correct)\n",
        "• Propagate gradients back into the network’s parameters\n",
        "• Update the weights of the network, typically using a simple update rule:\n",
        "weight = weight - learning rate * gradient\n",
        "For example, look at this network that classifies digit images. It is a simple feed-\n",
        "forward network. It takes the input, feeds it through two hidden layers one after the\n",
        "\n",
        "other, and then finally gives the output, which is 10 neurons each corresponds to a\n",
        "different class (digit 0, 1, ..., 9).\n",
        "Now, let’s build and train the MLP"
      ],
      "metadata": {
        "id": "ark5T6s-3-EX"
      }
    },
    {
      "cell_type": "markdown",
      "source": [
        "Define the network\n",
        "Let’s define this network:"
      ],
      "metadata": {
        "id": "iVWwNHOI4FGu"
      }
    },
    {
      "cell_type": "code",
      "source": [
        "import torch.nn as nn\n",
        "import torch.nn.functional as F\n",
        "\n",
        "class Net(nn.Module):\n",
        "  def __init__(self):\n",
        "    super(Net, self).__init__()\n",
        "    # an affine operation: y = Wx + b\n",
        "    # 784 is the input dimension, and 68 is the output dimenstion o the first hidden layer\n",
        "    self.fc1 = nn.Linear(784, 64)\n",
        "    self.fc2 = nn.Linear(64, 64)\n",
        "    self.fc3 = nn.Linear(64, 10)\n",
        "  def forward(self, x):\n",
        "    # apply the first layer with relu activation\n",
        "    x = F.relu(self.fc1(x))\n",
        "    x = F.relu(self.fc2(x))\n",
        "    x = self.fc3(x)\n",
        "    return x\n",
        "\n",
        "net = Net()\n",
        "print(net)"
      ],
      "metadata": {
        "id": "a-yKjKTE4Hmu",
        "colab": {
          "base_uri": "https://localhost:8080/"
        },
        "outputId": "5a7f4f25-55cc-46bd-94f1-a58cb1108dbe"
      },
      "execution_count": 62,
      "outputs": [
        {
          "output_type": "stream",
          "name": "stdout",
          "text": [
            "Net(\n",
            "  (fc1): Linear(in_features=784, out_features=64, bias=True)\n",
            "  (fc2): Linear(in_features=64, out_features=64, bias=True)\n",
            "  (fc3): Linear(in_features=64, out_features=10, bias=True)\n",
            ")\n"
          ]
        }
      ]
    },
    {
      "cell_type": "markdown",
      "source": [
        "You just have to define the forward function, and the backward function (where\n",
        "gradients are computed) is automatically defined for you using autograd. You can\n",
        "use any of the Tensor operations in the forward function.\n",
        "The learnable parameters of a model are returned by net.parameters()"
      ],
      "metadata": {
        "id": "DpI4L3X94U2e"
      }
    },
    {
      "cell_type": "code",
      "source": [
        "params = list(net.parameters())\n",
        "print(len(params))\n",
        "for p in params:\n",
        "  print(p.size())"
      ],
      "metadata": {
        "id": "RXxezm6X4V96",
        "colab": {
          "base_uri": "https://localhost:8080/"
        },
        "outputId": "1b25a10e-9765-4366-aa88-2c7963dd8e32"
      },
      "execution_count": 63,
      "outputs": [
        {
          "output_type": "stream",
          "name": "stdout",
          "text": [
            "6\n",
            "torch.Size([64, 784])\n",
            "torch.Size([64])\n",
            "torch.Size([64, 64])\n",
            "torch.Size([64])\n",
            "torch.Size([10, 64])\n",
            "torch.Size([10])\n"
          ]
        }
      ]
    },
    {
      "cell_type": "markdown",
      "source": [
        "Task 2: Identify what are the parameters that are printed in the previous code.\n",
        "Let’s try a random input. Note: expected input size of this network is 784."
      ],
      "metadata": {
        "id": "goQ38RfZ4Xxn"
      }
    },
    {
      "cell_type": "code",
      "source": [
        "input = torch.randn(1, 784)\n",
        "out = net(input)\n",
        "print(out)\n",
        "out.shape"
      ],
      "metadata": {
        "id": "5MZSqw1y4bwG",
        "colab": {
          "base_uri": "https://localhost:8080/"
        },
        "outputId": "ccc90dc9-f76f-497d-909a-6566c43ed177"
      },
      "execution_count": 64,
      "outputs": [
        {
          "output_type": "stream",
          "name": "stdout",
          "text": [
            "tensor([[-0.0489, -0.0013, -0.0138, -0.2011, -0.0620, -0.1763,  0.1597, -0.2246,\n",
            "         -0.1772,  0.1315]], grad_fn=<AddmmBackward0>)\n"
          ]
        },
        {
          "output_type": "execute_result",
          "data": {
            "text/plain": [
              "torch.Size([1, 10])"
            ]
          },
          "metadata": {},
          "execution_count": 64
        }
      ]
    },
    {
      "cell_type": "markdown",
      "source": [
        "Note that torch.nn only supports mini-batches. The entire torch.nn package only\n",
        "supports inputs that are a mini-batch of samples, and not a single sample. That’s\n",
        "the reason why we add an additional dimension for the input tensor.\n",
        "\n",
        "Task 3: Try the previous network with a random mini-batch of size 4 and print its\n",
        "output."
      ],
      "metadata": {
        "id": "FsLjInkM4eL7"
      }
    },
    {
      "cell_type": "code",
      "source": [
        "input = torch.randn(4, 784)\n",
        "out = net(input)\n",
        "print(out)\n",
        "out.shape\n"
      ],
      "metadata": {
        "colab": {
          "base_uri": "https://localhost:8080/"
        },
        "id": "f0otitQQnzwY",
        "outputId": "df108711-a8dc-43b4-d622-1f3feee9a547"
      },
      "execution_count": 65,
      "outputs": [
        {
          "output_type": "stream",
          "name": "stdout",
          "text": [
            "tensor([[ 0.0896, -0.0044,  0.0450, -0.1868, -0.0203, -0.1380,  0.0661, -0.1740,\n",
            "         -0.1125, -0.0052],\n",
            "        [ 0.0015, -0.0726, -0.0094, -0.1361, -0.0510, -0.1156,  0.0165, -0.2094,\n",
            "         -0.1062,  0.0341],\n",
            "        [-0.0557,  0.0118, -0.0300, -0.2104, -0.0329, -0.0495, -0.0568, -0.1601,\n",
            "         -0.0897,  0.0063],\n",
            "        [ 0.0021, -0.1117, -0.0715, -0.1929, -0.1021, -0.0675, -0.0533, -0.1202,\n",
            "         -0.1881, -0.0716]], grad_fn=<AddmmBackward0>)\n"
          ]
        },
        {
          "output_type": "execute_result",
          "data": {
            "text/plain": [
              "torch.Size([4, 10])"
            ]
          },
          "metadata": {},
          "execution_count": 65
        }
      ]
    },
    {
      "cell_type": "markdown",
      "source": [
        "## Define a Loss function and optimizer"
      ],
      "metadata": {
        "id": "obHa7xcC4mQq"
      }
    },
    {
      "cell_type": "code",
      "source": [
        "import torch.optim as optim\n",
        "loss = nn.CrossEntropyLoss()\n",
        "optimizer = optim.SGD(net.parameters(), lr=0.001)"
      ],
      "metadata": {
        "id": "_-NQFmuK4oym"
      },
      "execution_count": 66,
      "outputs": []
    },
    {
      "cell_type": "markdown",
      "source": [
        "Note that the input to nn.CrossEntropyLoss() is expected to contain the unnor-\n",
        "malized logits for each class. That’s why we do not use softmax activation for the\n",
        "\n",
        "last layer of the network.\n",
        "What about data?\n",
        "To train the network, you need to iterate over your dataset and feed it to the network\n",
        "as mini-batches in the training loop. PyTorch provides two classes to make this\n",
        "process easier: Dataset and Dataloader. The Dataset and DataLoader classes\n",
        "encapsulate the process of pulling your data from storage and exposing it to your\n",
        "training loop in batches.\n",
        "The Dataset is responsible for accessing and processing single instances of data. The\n",
        "DataLoader pulls instances of data from the Dataset (either automatically or with a\n",
        "sampler that you define), collects them in batches, and returns them for consumption\n",
        "by your training loop. The DataLoader works with all kinds of datasets, regardless\n",
        "of the type of data they contain.\n",
        "PyTorch domain libraries provide a number of pre-loaded datasets (such as MNIST)\n",
        "that subclass torch.utils.data.Dataset and implement functions specific to the\n",
        "particular data. They can be used to prototype and benchmark your model. In this\n",
        "experiment, we will use the MNIST dataset, which contains images of handwritten\n",
        "digits. It has a training set of 60,000 examples, and a test set of 10,000 examples.\n",
        "Each example comprises a 28×28 grayscale image and an associated label from one\n",
        "of 10 classes (digit 0, 1, ..., 9)."
      ],
      "metadata": {
        "id": "o_wv1Bys4rbE"
      }
    },
    {
      "cell_type": "markdown",
      "source": [
        "Loading a Dataset\n",
        "Here is an example of how to load the MNIST dataset from TorchVision.\n",
        "We load the MNIST Dataset with the following parameters:\n",
        "\n",
        "• root is the path where the train/test data is stored.\n",
        "\n",
        "• train specifies training or test dataset.\n",
        "• download=True downloads the data from the internet if it’s not available at\n",
        "root.\n",
        "\n",
        "• transform and target transform specify the feature and label transforma-\n",
        "tions."
      ],
      "metadata": {
        "id": "t_dWUOrc4xOq"
      }
    },
    {
      "cell_type": "code",
      "source": [
        "import torch\n",
        "from torch.utils.data import Dataset\n",
        "from torchvision import datasets\n",
        "from torchvision.transforms import ToTensor\n",
        "import matplotlib.pyplot as plt\n",
        "\n",
        "training_data = datasets.MNIST(\n",
        "root=\"data\",\n",
        "train=True,\n",
        "download=True,\n",
        "transform=ToTensor()\n",
        ")\n",
        "test_data = datasets.MNIST(\n",
        "root=\"data\",\n",
        "train=False,\n",
        "download=True,\n",
        "transform=ToTensor()\n",
        ")"
      ],
      "metadata": {
        "id": "d0ex2lUx43oi"
      },
      "execution_count": 67,
      "outputs": []
    },
    {
      "cell_type": "markdown",
      "source": [
        "Iterating and Visualizing the Dataset\n",
        "We can index Datasets manually like a list: training data[index]. We use matplotlib\n",
        "to visualize some samples in our training data."
      ],
      "metadata": {
        "id": "bETPrqJj445I"
      }
    },
    {
      "cell_type": "code",
      "source": [
        "figure = plt.figure(figsize=(8, 8))\n",
        "cols, rows = 3, 3\n",
        "for i in range(1, cols * rows + 1):\n",
        "  sample_idx = torch.randint(len(training_data), size=(1,)).item()\n",
        "  img, label = training_data[sample_idx]\n",
        "  figure.add_subplot(rows, cols, i)\n",
        "  plt.title(\"digit:\" + str(label))\n",
        "  plt.axis(\"off\")\n",
        "  plt.imshow(img.squeeze(), cmap=\"gray\")\n",
        "plt.show()"
      ],
      "metadata": {
        "id": "C0I1CXfK4sr3",
        "colab": {
          "base_uri": "https://localhost:8080/",
          "height": 675
        },
        "outputId": "2bdf3256-fa8c-4660-b806-ed8d4a436062"
      },
      "execution_count": 68,
      "outputs": [
        {
          "output_type": "display_data",
          "data": {
            "text/plain": [
              "<Figure size 800x800 with 9 Axes>"
            ],
            "image/png": "[encoded data removed]"
          },
          "metadata": {}
        }
      ]
    },
    {
      "cell_type": "markdown",
      "source": [
        "## Preparing your data for training with DataLoaders\n",
        "\n",
        "The Dataset retrieves our dataset’s features and labels one sample at a time. While\n",
        "training a model, we typically want to pass samples in “minibatches”, reshuffle the\n",
        "data at every epoch to reduce model overfitting, and use Python’s multiprocessing\n",
        "to speed up data retrieval.\n",
        "DataLoader is an iterable that abstracts this complexity for us in an easy API."
      ],
      "metadata": {
        "id": "TPKHeHHT5Bl5"
      }
    },
    {
      "cell_type": "code",
      "source": [
        "from torch.utils.data import DataLoader\n",
        "train_dataloader = DataLoader(training_data, batch_size=4, shuffle=True)\n",
        "test_dataloader = DataLoader(test_data, batch_size=4, shuffle=True)"
      ],
      "metadata": {
        "id": "wcSJVOHd5CpO"
      },
      "execution_count": 69,
      "outputs": []
    },
    {
      "cell_type": "markdown",
      "source": [
        "## Iterate through the DataLoader\n",
        "We have loaded that dataset into the DataLoader and can iterate through the dataset\n",
        "as needed. Each iteration below returns a batch of train features and train labels\n",
        "(containing batch size=4 features and labels respectively). Because we specified\n",
        "shuffle=True, after we iterate over all batches the data is shuffled."
      ],
      "metadata": {
        "id": "1wG3RN7C5Ghm"
      }
    },
    {
      "cell_type": "code",
      "source": [
        "# Display image and label.\n",
        "train_features, train_labels = next(iter(train_dataloader))\n",
        "print(f\"Feature batch shape: {train_features.size()}\")\n",
        "print(f\"Labels batch shape: {train_labels.size()}\")\n",
        "img = train_features[0].squeeze()\n",
        "label = train_labels[0]\n",
        "plt.imshow(img, cmap=\"gray\")\n",
        "plt.show()\n",
        "print(f\"Label: {label}\")"
      ],
      "metadata": {
        "id": "laPKQFXc5KvF",
        "colab": {
          "base_uri": "https://localhost:8080/",
          "height": 482
        },
        "outputId": "e2a47f61-e8ec-4c48-8678-ce0b30d39dc1"
      },
      "execution_count": 70,
      "outputs": [
        {
          "output_type": "stream",
          "name": "stdout",
          "text": [
            "Feature batch shape: torch.Size([4, 1, 28, 28])\n",
            "Labels batch shape: torch.Size([4])\n"
          ]
        },
        {
          "output_type": "display_data",
          "data": {
            "text/plain": [
              "<Figure size 640x480 with 1 Axes>"
            ],
            "image/png": "[encoded data removed]"
          },
          "metadata": {}
        },
        {
          "output_type": "stream",
          "name": "stdout",
          "text": [
            "Label: 7\n"
          ]
        }
      ]
    },
    {
      "cell_type": "markdown",
      "source": [
        "Train the network\n",
        "This is when things start to get interesting. We simply have to loop over our data\n",
        "iterator, and feed the inputs to the network and optimize."
      ],
      "metadata": {
        "id": "MpJR0Mtq5P6k"
      }
    },
    {
      "cell_type": "code",
      "source": [
        "for epoch in range(2): # loop over the dataset multiple times\n",
        "  running_loss = 0.0\n",
        "  for i, data in enumerate(train_dataloader, 0):\n",
        "  # get the inputs; data is a list of [inputs, labels]\n",
        "    inputs, labels = data\n",
        "  # zero the parameter gradients\n",
        "    optimizer.zero_grad()\n",
        "    # forward + backward + optimize\n",
        "    outputs = net(torch.flatten(inputs,1))\n",
        "    iteration_loss = loss(outputs, labels)\n",
        "    iteration_loss.backward()\n",
        "    optimizer.step()\n",
        "    # print statistics\n",
        "    running_loss += iteration_loss.item()\n",
        "    if i % 2000 == 1999: # print every 2000 mini-batches\n",
        "      print(f'[{epoch + 1}, {i + 1:5d}] loss: {running_loss /2000:.3f}')\n",
        "      running_loss = 0.0\n",
        "print('Finished Training')"
      ],
      "metadata": {
        "id": "HFKpt_hn5OLs",
        "colab": {
          "base_uri": "https://localhost:8080/"
        },
        "outputId": "0160dd58-bea1-4b37-90be-85cc6fac76fb"
      },
      "execution_count": 71,
      "outputs": [
        {
          "output_type": "stream",
          "name": "stdout",
          "text": [
            "[1,  2000] loss: 2.281\n",
            "[1,  4000] loss: 2.173\n",
            "[1,  6000] loss: 1.872\n",
            "[1,  8000] loss: 1.361\n",
            "[1, 10000] loss: 0.927\n",
            "[1, 12000] loss: 0.699\n",
            "[1, 14000] loss: 0.577\n",
            "[2,  2000] loss: 0.496\n",
            "[2,  4000] loss: 0.454\n",
            "[2,  6000] loss: 0.444\n",
            "[2,  8000] loss: 0.418\n",
            "[2, 10000] loss: 0.417\n",
            "[2, 12000] loss: 0.395\n",
            "[2, 14000] loss: 0.387\n",
            "Finished Training\n"
          ]
        }
      ]
    },
    {
      "cell_type": "markdown",
      "source": [
        "Task 4: What is the meaning of epoch, forward pass, backward pass. What is\n",
        "the effect of torch.flatten(inputs, 1), and optimizer.step()?\n",
        "\n"
      ],
      "metadata": {
        "id": "SnXvDV3G5kGi"
      }
    },
    {
      "cell_type": "markdown",
      "source": [
        "Epoch: The number of complete cycles in which all training data is passed through the neural network at once.\n",
        "\n",
        "Forward Pass: The process of feeding data through the neural network to calculate the output.\n",
        "\n",
        "Backward Pass: The process of calculating gradients using backpropagation to update the weights.\n",
        "\n",
        "torch.flatten(inputs, 1): Flattens the inputs into a 1D shape for each sample, to match the first layer.\n",
        "\n",
        "optimizer.step(): Uses the gradients determined in the preceding step to update the model weights."
      ],
      "metadata": {
        "id": "vpmOe156S6dP"
      }
    },
    {
      "cell_type": "markdown",
      "source": [
        "\n",
        "To save our trained model, we can use the following code:"
      ],
      "metadata": {
        "id": "S_u0J76uzEsH"
      }
    },
    {
      "cell_type": "code",
      "source": [
        "PATH = './my_net.pth'\n",
        "torch.save(net.state_dict(), PATH)"
      ],
      "metadata": {
        "id": "H8M4Sq105ksO"
      },
      "execution_count": 72,
      "outputs": []
    },
    {
      "cell_type": "markdown",
      "source": [
        "Test the network on the test data\n",
        "We have trained the network for 2 passes over the training dataset. But we need to\n",
        "check if the network has learnt anything at all.\n",
        "We will check this by predicting the class label that the neural network outputs, and\n",
        "checking it against the ground-truth. If the prediction is correct, we add the sample\n",
        "to the list of correct predictions. The outputs are energies for the 10 classes. The\n",
        "higher the energy for a class, the more the network thinks that the image is of the\n",
        "particular class. So, we get the prediction by finding the index of the highest energy.\n",
        "Let’s load back in our saved model (note: saving and re-loading the model wasn’t\n",
        "necessary here, we only did it to illustrate how to do so):"
      ],
      "metadata": {
        "id": "6_cBqfRn5mcb"
      }
    },
    {
      "cell_type": "code",
      "source": [
        "net = Net()\n",
        "net.load_state_dict(torch.load(PATH))"
      ],
      "metadata": {
        "id": "vC3mv4hT5o0L",
        "colab": {
          "base_uri": "https://localhost:8080/"
        },
        "outputId": "ceb02789-fc78-401b-c917-b19e19575b5c"
      },
      "execution_count": 73,
      "outputs": [
        {
          "output_type": "stream",
          "name": "stderr",
          "text": [
            "<ipython-input-73-8b61435874a9>:2: FutureWarning: You are using `torch.load` with `weights_only=False` (the current default value), which uses the default pickle module implicitly. It is possible to construct malicious pickle data which will execute arbitrary code during unpickling (See https://github.com/pytorch/pytorch/blob/main/SECURITY.md#untrusted-models for more details). In a future release, the default value for `weights_only` will be flipped to `True`. This limits the functions that could be executed during unpickling. Arbitrary objects will no longer be allowed to be loaded via this mode unless they are explicitly allowlisted by the user via `torch.serialization.add_safe_globals`. We recommend you start setting `weights_only=True` for any use case where you don't have full control of the loaded file. Please open an issue on GitHub for any issues related to this experimental feature.\n",
            "  net.load_state_dict(torch.load(PATH))\n"
          ]
        },
        {
          "output_type": "execute_result",
          "data": {
            "text/plain": [
              "<All keys matched successfully>"
            ]
          },
          "metadata": {},
          "execution_count": 73
        }
      ]
    },
    {
      "cell_type": "markdown",
      "source": [
        "Let’s look at how the network performs on the whole testing dataset."
      ],
      "metadata": {
        "id": "YV56yO0I5uEF"
      }
    },
    {
      "cell_type": "code",
      "source": [
        "correct = 0\n",
        "total = 0\n",
        "# since we're not training, we don't need to calculate the gradients for our outputs\n",
        "with torch.no_grad():\n",
        "  for data in test_dataloader:\n",
        "    images, labels = data\n",
        "    # calculate outputs by running images through the network\n",
        "    outputs = net(torch.flatten(images,1))\n",
        "    # the class with the highest energy is what we choose as prediction\n",
        "    _, predicted = torch.max(outputs.data, 1)\n",
        "    total += labels.size(0)\n",
        "    correct += (predicted == labels).sum().item()\n",
        "print(f'Accuracy of the network on the 10000 test images: {100 * correct// total} %')"
      ],
      "metadata": {
        "id": "v8Tf5Mw25v1n",
        "colab": {
          "base_uri": "https://localhost:8080/"
        },
        "outputId": "13a19e3b-5fca-4d4a-d61b-e1a1a5217321"
      },
      "execution_count": 74,
      "outputs": [
        {
          "output_type": "stream",
          "name": "stdout",
          "text": [
            "Accuracy of the network on the 10000 test images: 89 %\n"
          ]
        }
      ]
    },
    {
      "cell_type": "markdown",
      "source": [
        "Task 5: Train the network in the previous example, but instead of using 2 hidden\n",
        "layers, try 3 hidden layers."
      ],
      "metadata": {
        "id": "Sdfh1mOK58LG"
      }
    },
    {
      "cell_type": "code",
      "source": [
        "import torch.nn as nn\n",
        "import torch.nn.functional as F\n",
        "\n",
        "class Net(nn.Module):\n",
        "  def __init__(self):\n",
        "    super(Net, self).__init__()\n",
        "    # an affine operation: y = Wx + b\n",
        "    # 784 is the input dimension, and 68 is the output dimenstion o the first hidden layer\n",
        "    self.fc1 = nn.Linear(784, 64)\n",
        "    self.fc2 = nn.Linear(64, 64)\n",
        "    self.fc3 = nn.Linear(64, 64)\n",
        "    self.fc4 = nn.Linear(64, 10)\n",
        "\n",
        "  def forward(self, x):\n",
        "    # apply the first layer with relu activation\n",
        "    x = F.relu(self.fc1(x))\n",
        "    x = F.relu(self.fc2(x))\n",
        "\n",
        "    x = self.fc4(x)\n",
        "    return x\n",
        "\n",
        "net = Net()\n",
        "print(net)\n",
        "correct = 0\n",
        "total = 0\n",
        "# since we're not training, we don't need to calculate the gradients for our outputs\n",
        "with torch.no_grad():\n",
        "  for data in test_dataloader:\n",
        "    images, labels = data\n",
        "    # calculate outputs by running images through the network\n",
        "    outputs = net(torch.flatten(images,1))\n",
        "    # the class with the highest energy is what we choose as prediction\n",
        "    _, predicted = torch.max(outputs.data, 1)\n",
        "    total += labels.size(0)\n",
        "    correct += (predicted == labels).sum().item()\n",
        "print(f'Accuracy of the network on the 10000 test images: {100 * correct// total} %')"
      ],
      "metadata": {
        "colab": {
          "base_uri": "https://localhost:8080/"
        },
        "id": "O2lH_G91rnD_",
        "outputId": "c7781af7-e540-4aa7-dfa3-60e244a7c5c6"
      },
      "execution_count": 75,
      "outputs": [
        {
          "output_type": "stream",
          "name": "stdout",
          "text": [
            "Net(\n",
            "  (fc1): Linear(in_features=784, out_features=64, bias=True)\n",
            "  (fc2): Linear(in_features=64, out_features=64, bias=True)\n",
            "  (fc3): Linear(in_features=64, out_features=64, bias=True)\n",
            "  (fc4): Linear(in_features=64, out_features=10, bias=True)\n",
            ")\n",
            "Accuracy of the network on the 10000 test images: 12 %\n"
          ]
        }
      ]
    },
    {
      "cell_type": "markdown",
      "source": [
        "Task 6: Train the network in the previous example using Adam optimizer."
      ],
      "metadata": {
        "id": "-jU88EL_5-WN"
      }
    },
    {
      "cell_type": "code",
      "source": [
        "net = Net()\n",
        "import torch.optim as optim\n",
        "loss = nn.CrossEntropyLoss()\n",
        "optimizer = optim.Adam(net.parameters(), lr=0.001)\n",
        "for epoch in range(2): # loop over the dataset multiple times\n",
        "  running_loss = 0.0\n",
        "  for i, data in enumerate(train_dataloader, 0):\n",
        "  # get the inputs; data is a list of [inputs, labels]\n",
        "    inputs, labels = data\n",
        "  # zero the parameter gradients\n",
        "    optimizer.zero_grad()\n",
        "    # forward + backward + optimize\n",
        "    outputs = net(torch.flatten(inputs,1))\n",
        "    iteration_loss = loss(outputs, labels)\n",
        "    iteration_loss.backward()\n",
        "    optimizer.step()\n",
        "    # print statistics\n",
        "    running_loss += iteration_loss.item()\n",
        "    if i % 2000 == 1999: # print every 2000 mini-batches\n",
        "      print(f'[{epoch + 1}, {i + 1:5d}] loss: {running_loss /2000:.3f}')\n",
        "      running_loss = 0.0\n",
        "print('Finished Training')\n",
        "correct = 0\n",
        "total = 0\n",
        "# since we're not training, we don't need to calculate the gradients for our outputs\n",
        "with torch.no_grad():\n",
        "  for data in test_dataloader:\n",
        "    images, labels = data\n",
        "    # calculate outputs by running images through the network\n",
        "    outputs = net(torch.flatten(images,1))\n",
        "    # the class with the highest energy is what we choose as prediction\n",
        "    _, predicted = torch.max(outputs.data, 1)\n",
        "    total += labels.size(0)\n",
        "    correct += (predicted == labels).sum().item()\n",
        "print(f'Accuracy of the network on the 10000 test images: {100 * correct// total} %')\n"
      ],
      "metadata": {
        "colab": {
          "base_uri": "https://localhost:8080/"
        },
        "id": "Oc_Ke9M350E4",
        "outputId": "c688a3fb-36b2-4fc2-fd16-4bfc9c48d586"
      },
      "execution_count": 76,
      "outputs": [
        {
          "output_type": "stream",
          "name": "stdout",
          "text": [
            "[1,  2000] loss: 0.514\n",
            "[1,  4000] loss: 0.267\n",
            "[1,  6000] loss: 0.212\n",
            "[1,  8000] loss: 0.190\n",
            "[1, 10000] loss: 0.157\n",
            "[1, 12000] loss: 0.159\n",
            "[1, 14000] loss: 0.155\n",
            "[2,  2000] loss: 0.119\n",
            "[2,  4000] loss: 0.115\n",
            "[2,  6000] loss: 0.119\n",
            "[2,  8000] loss: 0.117\n",
            "[2, 10000] loss: 0.113\n",
            "[2, 12000] loss: 0.113\n",
            "[2, 14000] loss: 0.120\n",
            "Finished Training\n",
            "Accuracy of the network on the 10000 test images: 97 %\n"
          ]
        }
      ]
    },
    {
      "cell_type": "markdown",
      "source": [
        "Training on GPU\n",
        "The training in the previous example was done on CPU. But how do we train our\n",
        "model on GPU?\n",
        "Just like how you transfer a Tensor onto the GPU, you transfer the neural net onto\n",
        "the GPU. Let’s first define our device as the first visible cuda device if we have CUDA\n",
        "available:"
      ],
      "metadata": {
        "id": "T6-LLJrj6AQU"
      }
    },
    {
      "cell_type": "code",
      "source": [
        "device = torch.device('cuda:0' if torch.cuda.is_available() else 'cpu')\n",
        "# Assuming that we are on a CUDA machine, this should print a CUDA device:\n",
        "print(device)"
      ],
      "metadata": {
        "id": "EeQjSDN_6Com",
        "colab": {
          "base_uri": "https://localhost:8080/"
        },
        "outputId": "03c7c4b4-3261-44df-a73e-6ad4aa51334d"
      },
      "execution_count": 77,
      "outputs": [
        {
          "output_type": "stream",
          "name": "stdout",
          "text": [
            "cuda:0\n"
          ]
        }
      ]
    },
    {
      "cell_type": "markdown",
      "source": [
        "The rest of this section assumes that device is a CUDA device.\n",
        "Then these methods will recursively go over all modules and convert their parameters\n",
        "and buffers to CUDA tensors:"
      ],
      "metadata": {
        "id": "c0ewXmXS6FH6"
      }
    },
    {
      "cell_type": "code",
      "source": [
        "net.to(device)"
      ],
      "metadata": {
        "colab": {
          "base_uri": "https://localhost:8080/"
        },
        "id": "EM6w1Ak1sMO2",
        "outputId": "8f85e53d-f8c3-4bc7-cc77-9c34ef78699e"
      },
      "execution_count": 78,
      "outputs": [
        {
          "output_type": "execute_result",
          "data": {
            "text/plain": [
              "Net(\n",
              "  (fc1): Linear(in_features=784, out_features=64, bias=True)\n",
              "  (fc2): Linear(in_features=64, out_features=64, bias=True)\n",
              "  (fc3): Linear(in_features=64, out_features=64, bias=True)\n",
              "  (fc4): Linear(in_features=64, out_features=10, bias=True)\n",
              ")"
            ]
          },
          "metadata": {},
          "execution_count": 78
        }
      ]
    },
    {
      "cell_type": "markdown",
      "source": [],
      "metadata": {
        "id": "H1Qqanwh6Hqp"
      }
    },
    {
      "cell_type": "markdown",
      "source": [
        "Remember that you will have to send the inputs and targets at every step to the\n",
        "GPU too:"
      ],
      "metadata": {
        "id": "gfw57WXT6KSH"
      }
    },
    {
      "cell_type": "code",
      "source": [
        "inputs, labels = data[0].to(device), data[1].to(device)"
      ],
      "metadata": {
        "id": "qlHoAVSs6LKA"
      },
      "execution_count": 79,
      "outputs": []
    },
    {
      "cell_type": "markdown",
      "source": [
        "Task 7: Train the network in the previous example on GPU. Do you notice significant\n",
        "speedup? if not, try to increase the size of your network."
      ],
      "metadata": {
        "id": "uTtLhpq76NZ2"
      }
    },
    {
      "cell_type": "markdown",
      "source": [
        "before increase the size of  network.\n",
        "\n",
        "---\n",
        "\n"
      ],
      "metadata": {
        "id": "lRIxKQbpPMOz"
      }
    },
    {
      "cell_type": "code",
      "source": [
        "loss = nn.CrossEntropyLoss()\n",
        "optimizer = optim.SGD(net.parameters(), lr=0.001)\n",
        "\n",
        "for epoch in range(2): # loop over the dataset multiple times\n",
        "\n",
        "  running_loss = 0.0\n",
        "  for i, data in enumerate(train_dataloader, 0):\n",
        "    # get the inputs; data is a list of [inputs, labels]\n",
        "    inputs, labels = data[0].to(device), data[1].to(device)\n",
        "    # zero the parameter gradients\n",
        "    optimizer.zero_grad()\n",
        "\n",
        "    # forward + backward + optimize\n",
        "    outputs = net(torch.flatten(inputs,1))\n",
        "    iteration_loss = loss(outputs, labels)\n",
        "    iteration_loss.backward()\n",
        "    optimizer.step()\n",
        "\n",
        "    # print statistics\n",
        "    running_loss += iteration_loss.item()\n",
        "    if i % 2000 == 1999: # print every 2000 mini-batches\n",
        "      print(f'[{epoch + 1}, {i + 1:5d}] loss: {running_loss / 2000:.3f}')\n",
        "      running_loss = 0.0\n",
        "\n",
        "print('Finished Training')"
      ],
      "metadata": {
        "colab": {
          "base_uri": "https://localhost:8080/"
        },
        "id": "eEt1e6YMI03M",
        "outputId": "cb6f573e-fb40-43f4-9719-901c1665712b"
      },
      "execution_count": 80,
      "outputs": [
        {
          "output_type": "stream",
          "name": "stdout",
          "text": [
            "[1,  2000] loss: 0.062\n",
            "[1,  4000] loss: 0.060\n",
            "[1,  6000] loss: 0.060\n",
            "[1,  8000] loss: 0.056\n",
            "[1, 10000] loss: 0.058\n",
            "[1, 12000] loss: 0.065\n",
            "[1, 14000] loss: 0.059\n",
            "[2,  2000] loss: 0.056\n",
            "[2,  4000] loss: 0.046\n",
            "[2,  6000] loss: 0.053\n",
            "[2,  8000] loss: 0.052\n",
            "[2, 10000] loss: 0.054\n",
            "[2, 12000] loss: 0.052\n",
            "[2, 14000] loss: 0.053\n",
            "Finished Training\n"
          ]
        }
      ]
    },
    {
      "cell_type": "markdown",
      "source": [
        "after increase the size of  network."
      ],
      "metadata": {
        "id": "G4e9jyLdPQAf"
      }
    },
    {
      "cell_type": "code",
      "source": [
        "import torch.nn as nn\n",
        "import torch.nn.functional as F\n",
        "\n",
        "class Net(nn.Module):\n",
        "  def __init__(self):\n",
        "    super(Net, self).__init__()\n",
        "    # an affine operation: y = Wx + b\n",
        "\n",
        "    self.fc1 = nn.Linear(784, 128)\n",
        "    self.fc2 = nn.Linear(128, 128)\n",
        "    self.fc3 = nn.Linear(128, 128)\n",
        "    self.fc4 = nn.Linear(128, 10)\n",
        "\n",
        "  def forward(self, x):\n",
        "    # apply the first layer with relu activation\n",
        "    x = F.relu(self.fc1(x))\n",
        "    x = F.relu(self.fc2(x))\n",
        "\n",
        "    x = self.fc4(x)\n",
        "    return x\n",
        "\n",
        "net = Net()\n",
        "print(net)\n",
        "correct = 0\n",
        "total = 0\n",
        "# since we're not training, we don't need to calculate the gradients for our outputs\n",
        "with torch.no_grad():\n",
        "  for data in test_dataloader:\n",
        "    images, labels = data\n",
        "    # calculate outputs by running images through the network\n",
        "    outputs = net(torch.flatten(images,1))\n",
        "    # the class with the highest energy is what we choose as prediction\n",
        "    _, predicted = torch.max(outputs.data, 1)\n",
        "    total += labels.size(0)\n",
        "    correct += (predicted == labels).sum().item()\n",
        "print(f'Accuracy of the network on the 10000 test images: {100 * correct// total} %')"
      ],
      "metadata": {
        "colab": {
          "base_uri": "https://localhost:8080/"
        },
        "id": "OZhzl-f_Pg8P",
        "outputId": "a261eeb6-ff79-4b67-aa92-7300f94912ce"
      },
      "execution_count": 81,
      "outputs": [
        {
          "output_type": "stream",
          "name": "stdout",
          "text": [
            "Net(\n",
            "  (fc1): Linear(in_features=784, out_features=128, bias=True)\n",
            "  (fc2): Linear(in_features=128, out_features=128, bias=True)\n",
            "  (fc3): Linear(in_features=128, out_features=128, bias=True)\n",
            "  (fc4): Linear(in_features=128, out_features=10, bias=True)\n",
            ")\n",
            "Accuracy of the network on the 10000 test images: 4 %\n"
          ]
        }
      ]
    },
    {
      "cell_type": "code",
      "source": [
        "# Check if GPU is available and set the device\n",
        "device = torch.device(\"cuda:0\" if torch.cuda.is_available() else \"cpu\")\n",
        "print(f\"Training on {device}\")"
      ],
      "metadata": {
        "colab": {
          "base_uri": "https://localhost:8080/"
        },
        "id": "oq9Ygi7_QU13",
        "outputId": "6bcdb8c5-a0b9-4ac9-a2fd-d570c242e69a"
      },
      "execution_count": 82,
      "outputs": [
        {
          "output_type": "stream",
          "name": "stdout",
          "text": [
            "Training on cuda:0\n"
          ]
        }
      ]
    },
    {
      "cell_type": "code",
      "source": [
        "import torch\n",
        "import torch.nn as nn\n",
        "import torch.optim as optim\n",
        "from torch.utils.data import DataLoader\n",
        "\n",
        "\n",
        "# Initialize the model and move it to the GPU (if available)\n",
        "net = Net().to(device)\n",
        "\n",
        "# Define loss function and optimizer\n",
        "criterion = nn.CrossEntropyLoss()\n",
        "optimizer = optim.Adam(net.parameters(), lr=0.001)\n",
        "\n",
        "# Number of epochs\n",
        "num_epochs = 5\n",
        "\n",
        "# Training loop\n",
        "for epoch in range(num_epochs):\n",
        "    running_loss = 0.0\n",
        "    for i, data in enumerate(train_dataloader, 0):\n",
        "        inputs, labels = data\n",
        "        # Move inputs and labels to the selected device\n",
        "        inputs, labels = inputs.to(device), labels.to(device)\n",
        "\n",
        "        # Flatten inputs for compatibility with the network\n",
        "        inputs = torch.flatten(inputs, 1)\n",
        "\n",
        "        # Zero the parameter gradients\n",
        "        optimizer.zero_grad()\n",
        "\n",
        "        # Forward + backward + optimize\n",
        "        outputs = net(inputs)\n",
        "        loss = criterion(outputs, labels)\n",
        "        loss.backward()\n",
        "        optimizer.step()\n",
        "\n",
        "        # Print statistics\n",
        "        running_loss += loss.item()\n",
        "        if i % 2000 == 1999:  # Print every 2000 mini-batches\n",
        "            print(f'[{epoch + 1}, {i + 1:5d}] loss: {running_loss / 2000:.3f}')\n",
        "            running_loss = 0.0\n",
        "\n",
        "print('Finished Training')\n",
        "\n",
        "\n"
      ],
      "metadata": {
        "colab": {
          "base_uri": "https://localhost:8080/"
        },
        "id": "kbeN2u7fP4kJ",
        "outputId": "a075589f-5ebf-49d6-b319-c5b8abaa38eb"
      },
      "execution_count": 83,
      "outputs": [
        {
          "output_type": "stream",
          "name": "stdout",
          "text": [
            "[1,  2000] loss: 0.464\n",
            "[1,  4000] loss: 0.237\n",
            "[1,  6000] loss: 0.199\n",
            "[1,  8000] loss: 0.184\n",
            "[1, 10000] loss: 0.154\n",
            "[1, 12000] loss: 0.152\n",
            "[1, 14000] loss: 0.133\n",
            "[2,  2000] loss: 0.097\n",
            "[2,  4000] loss: 0.128\n",
            "[2,  6000] loss: 0.097\n",
            "[2,  8000] loss: 0.115\n",
            "[2, 10000] loss: 0.102\n",
            "[2, 12000] loss: 0.098\n",
            "[2, 14000] loss: 0.105\n",
            "[3,  2000] loss: 0.076\n",
            "[3,  4000] loss: 0.075\n",
            "[3,  6000] loss: 0.086\n",
            "[3,  8000] loss: 0.086\n",
            "[3, 10000] loss: 0.087\n",
            "[3, 12000] loss: 0.080\n",
            "[3, 14000] loss: 0.079\n",
            "[4,  2000] loss: 0.055\n",
            "[4,  4000] loss: 0.071\n",
            "[4,  6000] loss: 0.070\n",
            "[4,  8000] loss: 0.069\n",
            "[4, 10000] loss: 0.071\n",
            "[4, 12000] loss: 0.077\n",
            "[4, 14000] loss: 0.070\n",
            "[5,  2000] loss: 0.046\n",
            "[5,  4000] loss: 0.059\n",
            "[5,  6000] loss: 0.061\n",
            "[5,  8000] loss: 0.062\n",
            "[5, 10000] loss: 0.051\n",
            "[5, 12000] loss: 0.070\n",
            "[5, 14000] loss: 0.063\n",
            "Finished Training\n"
          ]
        }
      ]
    },
    {
      "cell_type": "markdown",
      "source": [
        "1.4 EXTRA (Optional) - Visualizing models, data,\n",
        "and training with tensorboard\n",
        "PyTorch integrates with TensorBoard, a tool designed for visualizing the results of\n",
        "neural network training runs. This tutorial illustrates some of its functionality."
      ],
      "metadata": {
        "id": "fAHfeQ1R6Qf4"
      }
    }
  ]
}