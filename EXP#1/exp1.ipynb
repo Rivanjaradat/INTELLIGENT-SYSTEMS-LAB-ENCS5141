{
  "nbformat": 4,
  "nbformat_minor": 0,
  "metadata": {
    "colab": {
      "provenance": []
    },
    "kernelspec": {
      "name": "python3",
      "display_name": "Python 3"
    },
    "language_info": {
      "name": "python"
    }
  },
  "cells": [
    {
      "cell_type": "code",
      "execution_count": null,
      "metadata": {
        "id": "_gy2YFocl6v8"
      },
      "outputs": [],
      "source": []
    },
    {
      "cell_type": "markdown",
      "source": [
        "Example 1: Create a simple Pandas Series from a list:\n",
        "In order to create a series from a list, we have to first create a list. After that, we can\n",
        "create a series from a list."
      ],
      "metadata": {
        "id": "WUdpUYI_o__E"
      }
    },
    {
      "cell_type": "code",
      "source": [
        "import pandas as pd\n",
        "# create a simple list\n",
        "a = [1, 7, 2]\n",
        "# create series from a list\n",
        "my_Series = pd.Series(a)\n",
        "print(my_Series)"
      ],
      "metadata": {
        "colab": {
          "base_uri": "https://localhost:8080/"
        },
        "id": "WpL0Guo9pCKt",
        "outputId": "8d50cdbb-2cea-435c-8cbf-46ab01325b8f"
      },
      "execution_count": null,
      "outputs": [
        {
          "output_type": "stream",
          "name": "stdout",
          "text": [
            "0    1\n",
            "1    7\n",
            "2    2\n",
            "dtype: int64\n"
          ]
        }
      ]
    },
    {
      "cell_type": "markdown",
      "source": [
        "Example 2: Create a simple Pandas Series from a dictionary\n",
        "In order to create a series from the dictionary, we have to first create a dictionary. After\n",
        "that, we can make a series using the dictionary. Dictionary keys are used to construct\n",
        "indexes for series.\n"
      ],
      "metadata": {
        "id": "Mrr6rgvQpHeF"
      }
    },
    {
      "cell_type": "code",
      "source": [
        "import pandas as pd\n",
        "# a simple dictionary\n",
        "calories = {\"day1\": 420, \"day2\": 380, \"day3\": 390}\n",
        "# create series from dictionary\n",
        "my_Series = pd.Series(calories)\n",
        "print(my_Series)\n"
      ],
      "metadata": {
        "id": "OVpgkdv-pLfO"
      },
      "execution_count": null,
      "outputs": []
    },
    {
      "cell_type": "markdown",
      "source": [
        "Example 3: Create a DataFrame from a Series:\n",
        "\n"
      ],
      "metadata": {
        "id": "b5OhGXxUpPjg"
      }
    },
    {
      "cell_type": "code",
      "source": [
        "import pandas as pd\n",
        "# Initialize data to a series.\n",
        "d = pd.Series([10, 20, 30, 40])\n",
        "# creates Dataframe.\n",
        "df = pd.DataFrame(d)\n",
        "# print the data.\n",
        "print(df)"
      ],
      "metadata": {
        "id": "wsTnLIIIpSKK"
      },
      "execution_count": null,
      "outputs": []
    },
    {
      "cell_type": "markdown",
      "source": [
        "Example 4: Creating DataFrame from a Dictionary of lists"
      ],
      "metadata": {
        "id": "i1EcrQ3spTtA"
      }
    },
    {
      "cell_type": "code",
      "source": [
        "import pandas as pd\n",
        "# initialize the data of lists.\n",
        "data = {'Name': ['Ahmad', 'Ali', 'Omar', 'Hamzah'],\n",
        "'Age': [20, 21, 19, 18]}\n",
        "# Create DataFrame\n",
        "df = pd.DataFrame(data)\n",
        "# Print the output.\n",
        "print(df)"
      ],
      "metadata": {
        "id": "7nPQC0CDpVy_"
      },
      "execution_count": null,
      "outputs": []
    },
    {
      "cell_type": "markdown",
      "source": [
        "Example 5: Creating dataframe from two series"
      ],
      "metadata": {
        "id": "wK6PK5u_pfu-"
      }
    },
    {
      "cell_type": "code",
      "source": [
        "import pandas as pd\n",
        "data = {\n",
        "\"calories\": [420, 380, 390],\n",
        "\"duration\": [50, 40, 45]\n",
        "}\n",
        "myvar = pd.DataFrame(data)\n",
        "print(myvar)"
      ],
      "metadata": {
        "id": "ibtXjOR_pbeZ"
      },
      "execution_count": null,
      "outputs": []
    },
    {
      "cell_type": "markdown",
      "source": [
        "Example 6: Load a CSV file named data.csv into a DataFrame:"
      ],
      "metadata": {
        "id": "MdRwFmGdph5Q"
      }
    },
    {
      "cell_type": "code",
      "source": [
        "import pandas as pd\n",
        "df = pd.read_csv('Dinner.csv')\n",
        "print(df)\n",
        "\n",
        "\n"
      ],
      "metadata": {
        "colab": {
          "base_uri": "https://localhost:8080/"
        },
        "id": "byfgxULapkGH",
        "outputId": "e0d89365-17fa-46da-f1d2-fa80a3f3608a"
      },
      "execution_count": null,
      "outputs": [
        {
          "output_type": "stream",
          "name": "stdout",
          "text": [
            "   Waiter  total_bill   tip smoker  day    time  size\n",
            "0      10       16.99  1.01     No  Sun  Dinner     2\n",
            "1      10       10.34  1.66     No  Sun  Dinner     3\n",
            "2      11       21.01  3.50     No  Sun  Dinner     3\n",
            "3      11       23.68  3.31     No  Sun  Dinner     2\n",
            "4      22       24.59  3.61     No  Sun  Dinner     4\n"
          ]
        }
      ]
    },
    {
      "cell_type": "markdown",
      "source": [
        "Example 7: using .head() function to print the first five rows of the data set\n",
        "\n"
      ],
      "metadata": {
        "id": "PJNi9aLnrETe"
      }
    },
    {
      "cell_type": "code",
      "source": [
        "import pandas as pd\n",
        "df = pd.read_csv('Dinner.csv')\n",
        "print(df.head())"
      ],
      "metadata": {
        "id": "Mmq9YQZcrG13"
      },
      "execution_count": null,
      "outputs": []
    },
    {
      "cell_type": "markdown",
      "source": [
        "Example 8: using .tail() function to print the last five rows of the data set"
      ],
      "metadata": {
        "id": "3k34YRLgrIuY"
      }
    },
    {
      "cell_type": "code",
      "source": [
        "import pandas as pd\n",
        "df = pd.read_csv('Dinner.csv')\n",
        "print(df.tail())\n"
      ],
      "metadata": {
        "colab": {
          "base_uri": "https://localhost:8080/"
        },
        "id": "3qkA_62rrKYe",
        "outputId": "0fdab485-6fc9-4486-866b-bd99196f9354"
      },
      "execution_count": null,
      "outputs": [
        {
          "output_type": "stream",
          "name": "stdout",
          "text": [
            "    Waiter  total_bill   tip smoker  day    time  size\n",
            "20      11       17.92  4.08     No  Sat  Dinner     2\n",
            "21      11       20.29  2.75     No  Sat  Dinner     2\n",
            "22      10       15.77  2.23     No  Sat  Dinner     2\n",
            "23      33       39.42  7.58     No  Sat  Dinner     4\n",
            "24      33       19.82  3.18     No  Sat  Dinner     2\n"
          ]
        }
      ]
    },
    {
      "cell_type": "markdown",
      "source": [
        "Example 9: printing the shape of the dataframe"
      ],
      "metadata": {
        "id": "iRLWiUewtCdS"
      }
    },
    {
      "cell_type": "code",
      "source": [
        "import pandas as pd\n",
        "df = pd.read_csv('Dinner.csv')\n",
        "print(df.shape)"
      ],
      "metadata": {
        "colab": {
          "base_uri": "https://localhost:8080/"
        },
        "id": "drjgaNdqtD6S",
        "outputId": "ecc37260-98a8-4359-dc5d-c1af81267aec"
      },
      "execution_count": null,
      "outputs": [
        {
          "output_type": "stream",
          "name": "stdout",
          "text": [
            "(25, 7)\n"
          ]
        }
      ]
    },
    {
      "cell_type": "markdown",
      "source": [
        "Example 10: using .info() function"
      ],
      "metadata": {
        "id": "VDcWlqVnt6bF"
      }
    },
    {
      "cell_type": "code",
      "source": [
        "import pandas as pd\n",
        "df = pd.read_csv('Dinner.csv')\n",
        "print(df.info())\n"
      ],
      "metadata": {
        "colab": {
          "base_uri": "https://localhost:8080/"
        },
        "id": "Q8GbQwvct7NB",
        "outputId": "89bf03d6-96b3-4d30-fa7b-dd5c575a7d84"
      },
      "execution_count": null,
      "outputs": [
        {
          "output_type": "stream",
          "name": "stdout",
          "text": [
            "<class 'pandas.core.frame.DataFrame'>\n",
            "RangeIndex: 25 entries, 0 to 24\n",
            "Data columns (total 7 columns):\n",
            " #   Column      Non-Null Count  Dtype  \n",
            "---  ------      --------------  -----  \n",
            " 0   Waiter      25 non-null     int64  \n",
            " 1   total_bill  25 non-null     float64\n",
            " 2   tip         25 non-null     float64\n",
            " 3   smoker      25 non-null     object \n",
            " 4   day         25 non-null     object \n",
            " 5   time        25 non-null     object \n",
            " 6   size        25 non-null     int64  \n",
            "dtypes: float64(2), int64(2), object(3)\n",
            "memory usage: 1.5+ KB\n",
            "None\n"
          ]
        }
      ]
    },
    {
      "cell_type": "markdown",
      "source": [
        "we will create the following DataFrame to explore the effects of\n",
        "various dataframe indexing methods:"
      ],
      "metadata": {
        "id": "E-HXXIOGvY62"
      }
    },
    {
      "cell_type": "code",
      "source": [
        "import pandas as pd\n",
        "df = pd.DataFrame({'col_1': list(range(1, 11)), 'col_2':\n",
        "list(range(11, 21)), 'col_3': list(range(21, 31)), 'col_4':\n",
        "list(range(31, 41)), 'col_5': list(range(41, 51)), 'col_6':\n",
        "list(range(51, 61)), 'col_7': list(range(61, 71)), 'col_8':\n",
        "list(range(71, 81)), 'col_9': list(range(81, 91))})\n",
        "print(df)"
      ],
      "metadata": {
        "colab": {
          "base_uri": "https://localhost:8080/"
        },
        "id": "EYKy8SjwvYtG",
        "outputId": "9f096f8e-2947-4656-d517-cb4e2c3b71b4"
      },
      "execution_count": null,
      "outputs": [
        {
          "output_type": "stream",
          "name": "stdout",
          "text": [
            "   col_1  col_2  col_3  col_4  col_5  col_6  col_7  col_8  col_9\n",
            "0      1     11     21     31     41     51     61     71     81\n",
            "1      2     12     22     32     42     52     62     72     82\n",
            "2      3     13     23     33     43     53     63     73     83\n",
            "3      4     14     24     34     44     54     64     74     84\n",
            "4      5     15     25     35     45     55     65     75     85\n",
            "5      6     16     26     36     46     56     66     76     86\n",
            "6      7     17     27     37     47     57     67     77     87\n",
            "7      8     18     28     38     48     58     68     78     88\n",
            "8      9     19     29     39     49     59     69     79     89\n",
            "9     10     20     30     40     50     60     70     80     90\n"
          ]
        }
      ]
    },
    {
      "cell_type": "code",
      "source": [
        "print(df.columns)\n",
        "print(df.index)"
      ],
      "metadata": {
        "colab": {
          "base_uri": "https://localhost:8080/"
        },
        "id": "kra86ILdvZsn",
        "outputId": "5c63f74c-6d1e-4546-f206-a081ca65ad8a"
      },
      "execution_count": null,
      "outputs": [
        {
          "output_type": "stream",
          "name": "stdout",
          "text": [
            "Index(['col_1', 'col_2', 'col_3', 'col_4', 'col_5', 'col_6', 'col_7', 'col_8',\n",
            "       'col_9'],\n",
            "      dtype='object')\n",
            "RangeIndex(start=0, stop=10, step=1)\n"
          ]
        }
      ]
    },
    {
      "cell_type": "markdown",
      "source": [
        "Example 11: printing the second column using the label indexing operator."
      ],
      "metadata": {
        "id": "VnUwLvmUwSvu"
      }
    },
    {
      "cell_type": "code",
      "source": [
        "print(df['col_2'])\n"
      ],
      "metadata": {
        "colab": {
          "base_uri": "https://localhost:8080/"
        },
        "id": "7of3MS4KwTme",
        "outputId": "ed01759f-74ce-4bab-cc5b-a7b7cda62721"
      },
      "execution_count": null,
      "outputs": [
        {
          "output_type": "stream",
          "name": "stdout",
          "text": [
            "0    11\n",
            "1    12\n",
            "2    13\n",
            "3    14\n",
            "4    15\n",
            "5    16\n",
            "6    17\n",
            "7    18\n",
            "8    19\n",
            "9    20\n",
            "Name: col_2, dtype: int64\n"
          ]
        }
      ]
    },
    {
      "cell_type": "code",
      "source": [
        "print(df[['col_5', 'col_1', 'col_8']])"
      ],
      "metadata": {
        "colab": {
          "base_uri": "https://localhost:8080/"
        },
        "id": "nqu6s3vEwexw",
        "outputId": "d07d88df-78cf-4381-9ce9-8e0084382221"
      },
      "execution_count": null,
      "outputs": [
        {
          "output_type": "stream",
          "name": "stdout",
          "text": [
            "   col_5  col_1  col_8\n",
            "0     41      1     71\n",
            "1     42      2     72\n",
            "2     43      3     73\n",
            "3     44      4     74\n",
            "4     45      5     75\n",
            "5     46      6     76\n",
            "6     47      7     77\n",
            "7     48      8     78\n",
            "8     49      9     79\n",
            "9     50     10     80\n"
          ]
        }
      ]
    },
    {
      "cell_type": "code",
      "source": [
        "print(df[['col_5', 'col_1', 'col_8', 'col_100']])"
      ],
      "metadata": {
        "colab": {
          "base_uri": "https://localhost:8080/",
          "height": 321
        },
        "id": "O6SAvV_1wkxf",
        "outputId": "47b7e778-5e58-4680-cd8d-7d51cd186ee0"
      },
      "execution_count": null,
      "outputs": [
        {
          "output_type": "error",
          "ename": "KeyError",
          "evalue": "\"['col_100'] not in index\"",
          "traceback": [
            "\u001b[0;31m---------------------------------------------------------------------------\u001b[0m",
            "\u001b[0;31mKeyError\u001b[0m                                  Traceback (most recent call last)",
            "\u001b[0;32m<ipython-input-19-d9916b233e44>\u001b[0m in \u001b[0;36m<cell line: 1>\u001b[0;34m()\u001b[0m\n\u001b[0;32m----> 1\u001b[0;31m \u001b[0mprint\u001b[0m\u001b[0;34m(\u001b[0m\u001b[0mdf\u001b[0m\u001b[0;34m[\u001b[0m\u001b[0;34m[\u001b[0m\u001b[0;34m'col_5'\u001b[0m\u001b[0;34m,\u001b[0m \u001b[0;34m'col_1'\u001b[0m\u001b[0;34m,\u001b[0m \u001b[0;34m'col_8'\u001b[0m\u001b[0;34m,\u001b[0m \u001b[0;34m'col_100'\u001b[0m\u001b[0;34m]\u001b[0m\u001b[0;34m]\u001b[0m\u001b[0;34m)\u001b[0m\u001b[0;34m\u001b[0m\u001b[0;34m\u001b[0m\u001b[0m\n\u001b[0m",
            "\u001b[0;32m/usr/local/lib/python3.10/dist-packages/pandas/core/frame.py\u001b[0m in \u001b[0;36m__getitem__\u001b[0;34m(self, key)\u001b[0m\n\u001b[1;32m   3897\u001b[0m             \u001b[0;32mif\u001b[0m \u001b[0mis_iterator\u001b[0m\u001b[0;34m(\u001b[0m\u001b[0mkey\u001b[0m\u001b[0;34m)\u001b[0m\u001b[0;34m:\u001b[0m\u001b[0;34m\u001b[0m\u001b[0;34m\u001b[0m\u001b[0m\n\u001b[1;32m   3898\u001b[0m                 \u001b[0mkey\u001b[0m \u001b[0;34m=\u001b[0m \u001b[0mlist\u001b[0m\u001b[0;34m(\u001b[0m\u001b[0mkey\u001b[0m\u001b[0;34m)\u001b[0m\u001b[0;34m\u001b[0m\u001b[0;34m\u001b[0m\u001b[0m\n\u001b[0;32m-> 3899\u001b[0;31m             \u001b[0mindexer\u001b[0m \u001b[0;34m=\u001b[0m \u001b[0mself\u001b[0m\u001b[0;34m.\u001b[0m\u001b[0mcolumns\u001b[0m\u001b[0;34m.\u001b[0m\u001b[0m_get_indexer_strict\u001b[0m\u001b[0;34m(\u001b[0m\u001b[0mkey\u001b[0m\u001b[0;34m,\u001b[0m \u001b[0;34m\"columns\"\u001b[0m\u001b[0;34m)\u001b[0m\u001b[0;34m[\u001b[0m\u001b[0;36m1\u001b[0m\u001b[0;34m]\u001b[0m\u001b[0;34m\u001b[0m\u001b[0;34m\u001b[0m\u001b[0m\n\u001b[0m\u001b[1;32m   3900\u001b[0m \u001b[0;34m\u001b[0m\u001b[0m\n\u001b[1;32m   3901\u001b[0m         \u001b[0;31m# take() does not accept boolean indexers\u001b[0m\u001b[0;34m\u001b[0m\u001b[0;34m\u001b[0m\u001b[0m\n",
            "\u001b[0;32m/usr/local/lib/python3.10/dist-packages/pandas/core/indexes/base.py\u001b[0m in \u001b[0;36m_get_indexer_strict\u001b[0;34m(self, key, axis_name)\u001b[0m\n\u001b[1;32m   6113\u001b[0m             \u001b[0mkeyarr\u001b[0m\u001b[0;34m,\u001b[0m \u001b[0mindexer\u001b[0m\u001b[0;34m,\u001b[0m \u001b[0mnew_indexer\u001b[0m \u001b[0;34m=\u001b[0m \u001b[0mself\u001b[0m\u001b[0;34m.\u001b[0m\u001b[0m_reindex_non_unique\u001b[0m\u001b[0;34m(\u001b[0m\u001b[0mkeyarr\u001b[0m\u001b[0;34m)\u001b[0m\u001b[0;34m\u001b[0m\u001b[0;34m\u001b[0m\u001b[0m\n\u001b[1;32m   6114\u001b[0m \u001b[0;34m\u001b[0m\u001b[0m\n\u001b[0;32m-> 6115\u001b[0;31m         \u001b[0mself\u001b[0m\u001b[0;34m.\u001b[0m\u001b[0m_raise_if_missing\u001b[0m\u001b[0;34m(\u001b[0m\u001b[0mkeyarr\u001b[0m\u001b[0;34m,\u001b[0m \u001b[0mindexer\u001b[0m\u001b[0;34m,\u001b[0m \u001b[0maxis_name\u001b[0m\u001b[0;34m)\u001b[0m\u001b[0;34m\u001b[0m\u001b[0;34m\u001b[0m\u001b[0m\n\u001b[0m\u001b[1;32m   6116\u001b[0m \u001b[0;34m\u001b[0m\u001b[0m\n\u001b[1;32m   6117\u001b[0m         \u001b[0mkeyarr\u001b[0m \u001b[0;34m=\u001b[0m \u001b[0mself\u001b[0m\u001b[0;34m.\u001b[0m\u001b[0mtake\u001b[0m\u001b[0;34m(\u001b[0m\u001b[0mindexer\u001b[0m\u001b[0;34m)\u001b[0m\u001b[0;34m\u001b[0m\u001b[0;34m\u001b[0m\u001b[0m\n",
            "\u001b[0;32m/usr/local/lib/python3.10/dist-packages/pandas/core/indexes/base.py\u001b[0m in \u001b[0;36m_raise_if_missing\u001b[0;34m(self, key, indexer, axis_name)\u001b[0m\n\u001b[1;32m   6177\u001b[0m \u001b[0;34m\u001b[0m\u001b[0m\n\u001b[1;32m   6178\u001b[0m             \u001b[0mnot_found\u001b[0m \u001b[0;34m=\u001b[0m \u001b[0mlist\u001b[0m\u001b[0;34m(\u001b[0m\u001b[0mensure_index\u001b[0m\u001b[0;34m(\u001b[0m\u001b[0mkey\u001b[0m\u001b[0;34m)\u001b[0m\u001b[0;34m[\u001b[0m\u001b[0mmissing_mask\u001b[0m\u001b[0;34m.\u001b[0m\u001b[0mnonzero\u001b[0m\u001b[0;34m(\u001b[0m\u001b[0;34m)\u001b[0m\u001b[0;34m[\u001b[0m\u001b[0;36m0\u001b[0m\u001b[0;34m]\u001b[0m\u001b[0;34m]\u001b[0m\u001b[0;34m.\u001b[0m\u001b[0munique\u001b[0m\u001b[0;34m(\u001b[0m\u001b[0;34m)\u001b[0m\u001b[0;34m)\u001b[0m\u001b[0;34m\u001b[0m\u001b[0;34m\u001b[0m\u001b[0m\n\u001b[0;32m-> 6179\u001b[0;31m             \u001b[0;32mraise\u001b[0m \u001b[0mKeyError\u001b[0m\u001b[0;34m(\u001b[0m\u001b[0;34mf\"{not_found} not in index\"\u001b[0m\u001b[0;34m)\u001b[0m\u001b[0;34m\u001b[0m\u001b[0;34m\u001b[0m\u001b[0m\n\u001b[0m\u001b[1;32m   6180\u001b[0m \u001b[0;34m\u001b[0m\u001b[0m\n\u001b[1;32m   6181\u001b[0m     \u001b[0;34m@\u001b[0m\u001b[0moverload\u001b[0m\u001b[0;34m\u001b[0m\u001b[0;34m\u001b[0m\u001b[0m\n",
            "\u001b[0;31mKeyError\u001b[0m: \"['col_100'] not in index\""
          ]
        }
      ]
    },
    {
      "cell_type": "markdown",
      "source": [],
      "metadata": {
        "id": "n6h9kjGjwkg5"
      }
    },
    {
      "cell_type": "code",
      "source": [
        "print(df.loc[0])\n"
      ],
      "metadata": {
        "colab": {
          "base_uri": "https://localhost:8080/"
        },
        "id": "O8-6eHz8xboH",
        "outputId": "0cb715df-815e-499c-e7d6-4414b26c00aa"
      },
      "execution_count": null,
      "outputs": [
        {
          "output_type": "stream",
          "name": "stdout",
          "text": [
            "col_1     1\n",
            "col_2    11\n",
            "col_3    21\n",
            "col_4    31\n",
            "col_5    41\n",
            "col_6    51\n",
            "col_7    61\n",
            "col_8    71\n",
            "col_9    81\n",
            "Name: 0, dtype: int64\n"
          ]
        }
      ]
    },
    {
      "cell_type": "markdown",
      "source": [],
      "metadata": {
        "id": "WK16sCkgxbU2"
      }
    },
    {
      "cell_type": "code",
      "source": [
        "print(df.loc[0])\n"
      ],
      "metadata": {
        "colab": {
          "base_uri": "https://localhost:8080/"
        },
        "id": "KaHI9SCNyQEh",
        "outputId": "207ec113-e0a6-4d3b-992e-2ce1fa54cc2b"
      },
      "execution_count": null,
      "outputs": [
        {
          "output_type": "stream",
          "name": "stdout",
          "text": [
            "col_1     1\n",
            "col_2    11\n",
            "col_3    21\n",
            "col_4    31\n",
            "col_5    41\n",
            "col_6    51\n",
            "col_7    61\n",
            "col_8    71\n",
            "col_9    81\n",
            "Name: 0, dtype: int64\n"
          ]
        }
      ]
    },
    {
      "cell_type": "code",
      "source": [
        "df.index = ['row_1', 'row_2', 'row_3', 'row_4', 'row_5', 'row_6',\n",
        "'row_7', 'row_8', 'row_9', 'row_10']\n",
        "print(df.loc[['row_6', 'row_2', 'row_9']])"
      ],
      "metadata": {
        "colab": {
          "base_uri": "https://localhost:8080/"
        },
        "id": "0OGWD6-8yin1",
        "outputId": "b6278284-113a-40d8-a6a3-a9f11f2af4e6"
      },
      "execution_count": null,
      "outputs": [
        {
          "output_type": "stream",
          "name": "stdout",
          "text": [
            "        col_1  col_2  col_3  col_4  col_5  col_6  col_7  col_8  col_9\n",
            "row_1       1     11     21     31     41     51     61     71     81\n",
            "row_2       2     12     22     32     42     52     62     72     82\n",
            "row_3       3     13     23     33     43     53     63     73     83\n",
            "row_4       4     14     24     34     44     54     64     74     84\n",
            "row_5       5     15     25     35     45     55     65     75     85\n",
            "row_6       6     16     26     36     46     56     66     76     86\n",
            "row_7       7     17     27     37     47     57     67     77     87\n",
            "row_8       8     18     28     38     48     58     68     78     88\n",
            "row_9       9     19     29     39     49     59     69     79     89\n",
            "row_10     10     20     30     40     50     60     70     80     90\n"
          ]
        }
      ]
    },
    {
      "cell_type": "code",
      "source": [
        "print(df.loc[['row_6', 'row_2', 'row_9', 'row_100']])"
      ],
      "metadata": {
        "colab": {
          "base_uri": "https://localhost:8080/",
          "height": 321
        },
        "id": "j3Biq1fgzkWX",
        "outputId": "b8a5be3b-807a-4f6a-ea9c-aa1b0a58025d"
      },
      "execution_count": null,
      "outputs": [
        {
          "output_type": "error",
          "ename": "KeyError",
          "evalue": "\"['row_100'] not in index\"",
          "traceback": [
            "\u001b[0;31m---------------------------------------------------------------------------\u001b[0m",
            "\u001b[0;31mKeyError\u001b[0m                                  Traceback (most recent call last)",
            "\u001b[0;32m<ipython-input-25-8b6524a0ac9d>\u001b[0m in \u001b[0;36m<cell line: 1>\u001b[0;34m()\u001b[0m\n\u001b[0;32m----> 1\u001b[0;31m \u001b[0mprint\u001b[0m\u001b[0;34m(\u001b[0m\u001b[0mdf\u001b[0m\u001b[0;34m.\u001b[0m\u001b[0mloc\u001b[0m\u001b[0;34m[\u001b[0m\u001b[0;34m[\u001b[0m\u001b[0;34m'row_6'\u001b[0m\u001b[0;34m,\u001b[0m \u001b[0;34m'row_2'\u001b[0m\u001b[0;34m,\u001b[0m \u001b[0;34m'row_9'\u001b[0m\u001b[0;34m,\u001b[0m \u001b[0;34m'row_100'\u001b[0m\u001b[0;34m]\u001b[0m\u001b[0;34m]\u001b[0m\u001b[0;34m)\u001b[0m\u001b[0;34m\u001b[0m\u001b[0;34m\u001b[0m\u001b[0m\n\u001b[0m",
            "\u001b[0;32m/usr/local/lib/python3.10/dist-packages/pandas/core/indexing.py\u001b[0m in \u001b[0;36m__getitem__\u001b[0;34m(self, key)\u001b[0m\n\u001b[1;32m   1151\u001b[0m \u001b[0;34m\u001b[0m\u001b[0m\n\u001b[1;32m   1152\u001b[0m             \u001b[0mmaybe_callable\u001b[0m \u001b[0;34m=\u001b[0m \u001b[0mcom\u001b[0m\u001b[0;34m.\u001b[0m\u001b[0mapply_if_callable\u001b[0m\u001b[0;34m(\u001b[0m\u001b[0mkey\u001b[0m\u001b[0;34m,\u001b[0m \u001b[0mself\u001b[0m\u001b[0;34m.\u001b[0m\u001b[0mobj\u001b[0m\u001b[0;34m)\u001b[0m\u001b[0;34m\u001b[0m\u001b[0;34m\u001b[0m\u001b[0m\n\u001b[0;32m-> 1153\u001b[0;31m             \u001b[0;32mreturn\u001b[0m \u001b[0mself\u001b[0m\u001b[0;34m.\u001b[0m\u001b[0m_getitem_axis\u001b[0m\u001b[0;34m(\u001b[0m\u001b[0mmaybe_callable\u001b[0m\u001b[0;34m,\u001b[0m \u001b[0maxis\u001b[0m\u001b[0;34m=\u001b[0m\u001b[0maxis\u001b[0m\u001b[0;34m)\u001b[0m\u001b[0;34m\u001b[0m\u001b[0;34m\u001b[0m\u001b[0m\n\u001b[0m\u001b[1;32m   1154\u001b[0m \u001b[0;34m\u001b[0m\u001b[0m\n\u001b[1;32m   1155\u001b[0m     \u001b[0;32mdef\u001b[0m \u001b[0m_is_scalar_access\u001b[0m\u001b[0;34m(\u001b[0m\u001b[0mself\u001b[0m\u001b[0;34m,\u001b[0m \u001b[0mkey\u001b[0m\u001b[0;34m:\u001b[0m \u001b[0mtuple\u001b[0m\u001b[0;34m)\u001b[0m\u001b[0;34m:\u001b[0m\u001b[0;34m\u001b[0m\u001b[0;34m\u001b[0m\u001b[0m\n",
            "\u001b[0;32m/usr/local/lib/python3.10/dist-packages/pandas/core/indexing.py\u001b[0m in \u001b[0;36m_getitem_axis\u001b[0;34m(self, key, axis)\u001b[0m\n\u001b[1;32m   1380\u001b[0m                     \u001b[0;32mraise\u001b[0m \u001b[0mValueError\u001b[0m\u001b[0;34m(\u001b[0m\u001b[0;34m\"Cannot index with multidimensional key\"\u001b[0m\u001b[0;34m)\u001b[0m\u001b[0;34m\u001b[0m\u001b[0;34m\u001b[0m\u001b[0m\n\u001b[1;32m   1381\u001b[0m \u001b[0;34m\u001b[0m\u001b[0m\n\u001b[0;32m-> 1382\u001b[0;31m                 \u001b[0;32mreturn\u001b[0m \u001b[0mself\u001b[0m\u001b[0;34m.\u001b[0m\u001b[0m_getitem_iterable\u001b[0m\u001b[0;34m(\u001b[0m\u001b[0mkey\u001b[0m\u001b[0;34m,\u001b[0m \u001b[0maxis\u001b[0m\u001b[0;34m=\u001b[0m\u001b[0maxis\u001b[0m\u001b[0;34m)\u001b[0m\u001b[0;34m\u001b[0m\u001b[0;34m\u001b[0m\u001b[0m\n\u001b[0m\u001b[1;32m   1383\u001b[0m \u001b[0;34m\u001b[0m\u001b[0m\n\u001b[1;32m   1384\u001b[0m             \u001b[0;31m# nested tuple slicing\u001b[0m\u001b[0;34m\u001b[0m\u001b[0;34m\u001b[0m\u001b[0m\n",
            "\u001b[0;32m/usr/local/lib/python3.10/dist-packages/pandas/core/indexing.py\u001b[0m in \u001b[0;36m_getitem_iterable\u001b[0;34m(self, key, axis)\u001b[0m\n\u001b[1;32m   1320\u001b[0m \u001b[0;34m\u001b[0m\u001b[0m\n\u001b[1;32m   1321\u001b[0m         \u001b[0;31m# A collection of keys\u001b[0m\u001b[0;34m\u001b[0m\u001b[0;34m\u001b[0m\u001b[0m\n\u001b[0;32m-> 1322\u001b[0;31m         \u001b[0mkeyarr\u001b[0m\u001b[0;34m,\u001b[0m \u001b[0mindexer\u001b[0m \u001b[0;34m=\u001b[0m \u001b[0mself\u001b[0m\u001b[0;34m.\u001b[0m\u001b[0m_get_listlike_indexer\u001b[0m\u001b[0;34m(\u001b[0m\u001b[0mkey\u001b[0m\u001b[0;34m,\u001b[0m \u001b[0maxis\u001b[0m\u001b[0;34m)\u001b[0m\u001b[0;34m\u001b[0m\u001b[0;34m\u001b[0m\u001b[0m\n\u001b[0m\u001b[1;32m   1323\u001b[0m         return self.obj._reindex_with_indexers(\n\u001b[1;32m   1324\u001b[0m             \u001b[0;34m{\u001b[0m\u001b[0maxis\u001b[0m\u001b[0;34m:\u001b[0m \u001b[0;34m[\u001b[0m\u001b[0mkeyarr\u001b[0m\u001b[0;34m,\u001b[0m \u001b[0mindexer\u001b[0m\u001b[0;34m]\u001b[0m\u001b[0;34m}\u001b[0m\u001b[0;34m,\u001b[0m \u001b[0mcopy\u001b[0m\u001b[0;34m=\u001b[0m\u001b[0;32mTrue\u001b[0m\u001b[0;34m,\u001b[0m \u001b[0mallow_dups\u001b[0m\u001b[0;34m=\u001b[0m\u001b[0;32mTrue\u001b[0m\u001b[0;34m\u001b[0m\u001b[0;34m\u001b[0m\u001b[0m\n",
            "\u001b[0;32m/usr/local/lib/python3.10/dist-packages/pandas/core/indexing.py\u001b[0m in \u001b[0;36m_get_listlike_indexer\u001b[0;34m(self, key, axis)\u001b[0m\n\u001b[1;32m   1518\u001b[0m         \u001b[0maxis_name\u001b[0m \u001b[0;34m=\u001b[0m \u001b[0mself\u001b[0m\u001b[0;34m.\u001b[0m\u001b[0mobj\u001b[0m\u001b[0;34m.\u001b[0m\u001b[0m_get_axis_name\u001b[0m\u001b[0;34m(\u001b[0m\u001b[0maxis\u001b[0m\u001b[0;34m)\u001b[0m\u001b[0;34m\u001b[0m\u001b[0;34m\u001b[0m\u001b[0m\n\u001b[1;32m   1519\u001b[0m \u001b[0;34m\u001b[0m\u001b[0m\n\u001b[0;32m-> 1520\u001b[0;31m         \u001b[0mkeyarr\u001b[0m\u001b[0;34m,\u001b[0m \u001b[0mindexer\u001b[0m \u001b[0;34m=\u001b[0m \u001b[0max\u001b[0m\u001b[0;34m.\u001b[0m\u001b[0m_get_indexer_strict\u001b[0m\u001b[0;34m(\u001b[0m\u001b[0mkey\u001b[0m\u001b[0;34m,\u001b[0m \u001b[0maxis_name\u001b[0m\u001b[0;34m)\u001b[0m\u001b[0;34m\u001b[0m\u001b[0;34m\u001b[0m\u001b[0m\n\u001b[0m\u001b[1;32m   1521\u001b[0m \u001b[0;34m\u001b[0m\u001b[0m\n\u001b[1;32m   1522\u001b[0m         \u001b[0;32mreturn\u001b[0m \u001b[0mkeyarr\u001b[0m\u001b[0;34m,\u001b[0m \u001b[0mindexer\u001b[0m\u001b[0;34m\u001b[0m\u001b[0;34m\u001b[0m\u001b[0m\n",
            "\u001b[0;32m/usr/local/lib/python3.10/dist-packages/pandas/core/indexes/base.py\u001b[0m in \u001b[0;36m_get_indexer_strict\u001b[0;34m(self, key, axis_name)\u001b[0m\n\u001b[1;32m   6113\u001b[0m             \u001b[0mkeyarr\u001b[0m\u001b[0;34m,\u001b[0m \u001b[0mindexer\u001b[0m\u001b[0;34m,\u001b[0m \u001b[0mnew_indexer\u001b[0m \u001b[0;34m=\u001b[0m \u001b[0mself\u001b[0m\u001b[0;34m.\u001b[0m\u001b[0m_reindex_non_unique\u001b[0m\u001b[0;34m(\u001b[0m\u001b[0mkeyarr\u001b[0m\u001b[0;34m)\u001b[0m\u001b[0;34m\u001b[0m\u001b[0;34m\u001b[0m\u001b[0m\n\u001b[1;32m   6114\u001b[0m \u001b[0;34m\u001b[0m\u001b[0m\n\u001b[0;32m-> 6115\u001b[0;31m         \u001b[0mself\u001b[0m\u001b[0;34m.\u001b[0m\u001b[0m_raise_if_missing\u001b[0m\u001b[0;34m(\u001b[0m\u001b[0mkeyarr\u001b[0m\u001b[0;34m,\u001b[0m \u001b[0mindexer\u001b[0m\u001b[0;34m,\u001b[0m \u001b[0maxis_name\u001b[0m\u001b[0;34m)\u001b[0m\u001b[0;34m\u001b[0m\u001b[0;34m\u001b[0m\u001b[0m\n\u001b[0m\u001b[1;32m   6116\u001b[0m \u001b[0;34m\u001b[0m\u001b[0m\n\u001b[1;32m   6117\u001b[0m         \u001b[0mkeyarr\u001b[0m \u001b[0;34m=\u001b[0m \u001b[0mself\u001b[0m\u001b[0;34m.\u001b[0m\u001b[0mtake\u001b[0m\u001b[0;34m(\u001b[0m\u001b[0mindexer\u001b[0m\u001b[0;34m)\u001b[0m\u001b[0;34m\u001b[0m\u001b[0;34m\u001b[0m\u001b[0m\n",
            "\u001b[0;32m/usr/local/lib/python3.10/dist-packages/pandas/core/indexes/base.py\u001b[0m in \u001b[0;36m_raise_if_missing\u001b[0;34m(self, key, indexer, axis_name)\u001b[0m\n\u001b[1;32m   6177\u001b[0m \u001b[0;34m\u001b[0m\u001b[0m\n\u001b[1;32m   6178\u001b[0m             \u001b[0mnot_found\u001b[0m \u001b[0;34m=\u001b[0m \u001b[0mlist\u001b[0m\u001b[0;34m(\u001b[0m\u001b[0mensure_index\u001b[0m\u001b[0;34m(\u001b[0m\u001b[0mkey\u001b[0m\u001b[0;34m)\u001b[0m\u001b[0;34m[\u001b[0m\u001b[0mmissing_mask\u001b[0m\u001b[0;34m.\u001b[0m\u001b[0mnonzero\u001b[0m\u001b[0;34m(\u001b[0m\u001b[0;34m)\u001b[0m\u001b[0;34m[\u001b[0m\u001b[0;36m0\u001b[0m\u001b[0;34m]\u001b[0m\u001b[0;34m]\u001b[0m\u001b[0;34m.\u001b[0m\u001b[0munique\u001b[0m\u001b[0;34m(\u001b[0m\u001b[0;34m)\u001b[0m\u001b[0;34m)\u001b[0m\u001b[0;34m\u001b[0m\u001b[0;34m\u001b[0m\u001b[0m\n\u001b[0;32m-> 6179\u001b[0;31m             \u001b[0;32mraise\u001b[0m \u001b[0mKeyError\u001b[0m\u001b[0;34m(\u001b[0m\u001b[0;34mf\"{not_found} not in index\"\u001b[0m\u001b[0;34m)\u001b[0m\u001b[0;34m\u001b[0m\u001b[0;34m\u001b[0m\u001b[0m\n\u001b[0m\u001b[1;32m   6180\u001b[0m \u001b[0;34m\u001b[0m\u001b[0m\n\u001b[1;32m   6181\u001b[0m     \u001b[0;34m@\u001b[0m\u001b[0moverload\u001b[0m\u001b[0;34m\u001b[0m\u001b[0;34m\u001b[0m\u001b[0m\n",
            "\u001b[0;31mKeyError\u001b[0m: \"['row_100'] not in index\""
          ]
        }
      ]
    },
    {
      "cell_type": "code",
      "source": [
        "print(df.loc['row_7':'row_9'])\n"
      ],
      "metadata": {
        "colab": {
          "base_uri": "https://localhost:8080/"
        },
        "id": "Tz1jwNWczn3f",
        "outputId": "f2bee425-412b-41ee-a8a4-e16adb3f3c31"
      },
      "execution_count": null,
      "outputs": [
        {
          "output_type": "stream",
          "name": "stdout",
          "text": [
            "       col_1  col_2  col_3  col_4  col_5  col_6  col_7  col_8  col_9\n",
            "row_7      7     17     27     37     47     57     67     77     87\n",
            "row_8      8     18     28     38     48     58     68     78     88\n",
            "row_9      9     19     29     39     49     59     69     79     89\n"
          ]
        }
      ]
    },
    {
      "cell_type": "markdown",
      "source": [
        "Task 1.1: Print the first 4 rows using the slicing method"
      ],
      "metadata": {
        "id": "0j5dLfJsz1C6"
      }
    },
    {
      "cell_type": "code",
      "source": [
        "print(df.loc['row_1':'row_4'])"
      ],
      "metadata": {
        "colab": {
          "base_uri": "https://localhost:8080/"
        },
        "id": "viv-1HG_z0nu",
        "outputId": "b0f26f53-9a51-44e2-e117-d91b18fc70ea"
      },
      "execution_count": null,
      "outputs": [
        {
          "output_type": "stream",
          "name": "stdout",
          "text": [
            "       col_1  col_2  col_3  col_4  col_5  col_6  col_7  col_8  col_9\n",
            "row_1      1     11     21     31     41     51     61     71     81\n",
            "row_2      2     12     22     32     42     52     62     72     82\n",
            "row_3      3     13     23     33     43     53     63     73     83\n",
            "row_4      4     14     24     34     44     54     64     74     84\n"
          ]
        }
      ]
    },
    {
      "cell_type": "markdown",
      "source": [
        "Print the last row with columns from col_5 to col_7.\n"
      ],
      "metadata": {
        "id": "yV-AsQ-B0slw"
      }
    },
    {
      "cell_type": "code",
      "source": [
        "print(df.iloc[-1, 4:7])"
      ],
      "metadata": {
        "colab": {
          "base_uri": "https://localhost:8080/"
        },
        "id": "BtIWQQht0tlL",
        "outputId": "a8ee6853-5c8d-40fa-d230-de6f07bd8c6d"
      },
      "execution_count": null,
      "outputs": [
        {
          "output_type": "stream",
          "name": "stdout",
          "text": [
            "col_5    50\n",
            "col_6    60\n",
            "col_7    70\n",
            "Name: row_10, dtype: int64\n"
          ]
        }
      ]
    },
    {
      "cell_type": "code",
      "source": [
        "print(df[3:6])\n"
      ],
      "metadata": {
        "colab": {
          "base_uri": "https://localhost:8080/"
        },
        "id": "mxsJw9Gl2HXB",
        "outputId": "f94f3f5d-a458-4a77-9fae-d4285071aa03"
      },
      "execution_count": null,
      "outputs": [
        {
          "output_type": "stream",
          "name": "stdout",
          "text": [
            "       col_1  col_2  col_3  col_4  col_5  col_6  col_7  col_8  col_9\n",
            "row_4      4     14     24     34     44     54     64     74     84\n",
            "row_5      5     15     25     35     45     55     65     75     85\n",
            "row_6      6     16     26     36     46     56     66     76     86\n"
          ]
        }
      ]
    },
    {
      "cell_type": "markdown",
      "source": [],
      "metadata": {
        "id": "mDOx1TrTz0ZU"
      }
    },
    {
      "cell_type": "code",
      "source": [
        "print(df.iloc[3])"
      ],
      "metadata": {
        "colab": {
          "base_uri": "https://localhost:8080/"
        },
        "id": "ECSCWJOm2ihG",
        "outputId": "f52b53ca-42c4-4faa-ffd6-2858aafd449a"
      },
      "execution_count": null,
      "outputs": [
        {
          "output_type": "stream",
          "name": "stdout",
          "text": [
            "col_1     4\n",
            "col_2    14\n",
            "col_3    24\n",
            "col_4    34\n",
            "col_5    44\n",
            "col_6    54\n",
            "col_7    64\n",
            "col_8    74\n",
            "col_9    84\n",
            "Name: row_4, dtype: int64\n"
          ]
        }
      ]
    },
    {
      "cell_type": "code",
      "source": [
        "print(df.iloc[[9, 8, 7]])\n"
      ],
      "metadata": {
        "colab": {
          "base_uri": "https://localhost:8080/"
        },
        "id": "GBlwBw_f2qr5",
        "outputId": "79047928-d1e7-4459-d415-05dd472fab85"
      },
      "execution_count": null,
      "outputs": [
        {
          "output_type": "stream",
          "name": "stdout",
          "text": [
            "        col_1  col_2  col_3  col_4  col_5  col_6  col_7  col_8  col_9\n",
            "row_10     10     20     30     40     50     60     70     80     90\n",
            "row_9       9     19     29     39     49     59     69     79     89\n",
            "row_8       8     18     28     38     48     58     68     78     88\n"
          ]
        }
      ]
    },
    {
      "cell_type": "code",
      "source": [
        "print(df.iloc[0, [2, 8, 3]])"
      ],
      "metadata": {
        "colab": {
          "base_uri": "https://localhost:8080/"
        },
        "id": "VkrUpCGn3PUv",
        "outputId": "a51b9c8a-fea3-4b6a-e902-9540a8100353"
      },
      "execution_count": null,
      "outputs": [
        {
          "output_type": "stream",
          "name": "stdout",
          "text": [
            "col_3    21\n",
            "col_9    81\n",
            "col_4    31\n",
            "Name: row_1, dtype: int64\n"
          ]
        }
      ]
    },
    {
      "cell_type": "code",
      "source": [
        "print(df[(df['col_2']>15)&(df['col_2']!=19)] )\n"
      ],
      "metadata": {
        "colab": {
          "base_uri": "https://localhost:8080/"
        },
        "id": "kJ6bsKRv3pM8",
        "outputId": "a005edd5-8e7b-4b03-a3ef-1888e6f869b8"
      },
      "execution_count": null,
      "outputs": [
        {
          "output_type": "stream",
          "name": "stdout",
          "text": [
            "        col_1  col_2  col_3  col_4  col_5  col_6  col_7  col_8  col_9\n",
            "row_6       6     16     26     36     46     56     66     76     86\n",
            "row_7       7     17     27     37     47     57     67     77     87\n",
            "row_8       8     18     28     38     48     58     68     78     88\n",
            "row_10     10     20     30     40     50     60     70     80     90\n"
          ]
        }
      ]
    },
    {
      "cell_type": "markdown",
      "source": [
        "Example 13: Saving a DataFrame to a CSV file\n"
      ],
      "metadata": {
        "id": "HlSeSK1Z6Q4X"
      }
    },
    {
      "cell_type": "code",
      "source": [
        "import pandas as pd\n",
        "# Create a sample dataframe\n",
        "Biodata = {'Name': ['Ahmad', 'Ali', 'Omar', 'Hamzah'],\n",
        "'Age': [28, 23, 35, 31],\n",
        "'Gender': ['M', 'F', 'M', 'F']\n",
        "}\n",
        "df = pd.DataFrame(Biodata)\n",
        "# Save the dataframe to a CSV file\n",
        "df.to_csv('Biodata.csv', index=False)"
      ],
      "metadata": {
        "id": "-8qq_AEQ6RbJ"
      },
      "execution_count": null,
      "outputs": []
    },
    {
      "cell_type": "markdown",
      "source": [
        "Task 1.7: Save the above dataframe using tab-separated values\n"
      ],
      "metadata": {
        "id": "O2XbFyjB6nQq"
      }
    },
    {
      "cell_type": "code",
      "source": [
        "import pandas as pd\n",
        "\n",
        "# Create a sample dataframe\n",
        "Biodata = {\n",
        "    'Name': ['Ahmad', 'Ali', 'Omar', 'Hamzah'],\n",
        "    'Age': [28, 23, 35, 31],\n",
        "    'Gender': ['M', 'F', 'M', 'F']\n",
        "}\n",
        "\n",
        "df = pd.DataFrame(Biodata)\n",
        "\n",
        "# Save the dataframe to a TSV file (tab-separated values)\n",
        "df.to_csv('Biodata.tsv', sep='\\t', index=False)\n"
      ],
      "metadata": {
        "id": "iBPPNlVW6lqr"
      },
      "execution_count": null,
      "outputs": []
    },
    {
      "cell_type": "markdown",
      "source": [
        "Example 14: Column addition using the basic method"
      ],
      "metadata": {
        "id": "8EN_fyV47ZXW"
      }
    },
    {
      "cell_type": "code",
      "source": [
        "import pandas as pd\n",
        "# Define a dictionary containing Students data\n",
        "data = {'Name': ['Ahmad', 'Ali', 'Omar', 'Hamzah'],\n",
        "'Height': [5.1, 6.2, 5.1, 5.2],\n",
        "'Qualification': ['Msc', 'MA', 'Msc', 'Msc']}\n",
        "# Convert the dictionary into DataFrame\n",
        "df = pd.DataFrame(data)\n",
        "print(df)\n",
        "# Declare a list that is to be converted into a column\n",
        "address = ['Nablus', 'Alquds', 'Gaza', 'Haifa']\n",
        "# Using 'Address' as the column name and equating it to the list\n",
        "df['Address'] = address\n",
        "# Observe the result\n",
        "print(df)"
      ],
      "metadata": {
        "colab": {
          "base_uri": "https://localhost:8080/"
        },
        "id": "xpfQO25q7bjH",
        "outputId": "3e83d2a6-af18-49b0-aa14-a23f4042c2f3"
      },
      "execution_count": null,
      "outputs": [
        {
          "output_type": "stream",
          "name": "stdout",
          "text": [
            "     Name  Height Qualification\n",
            "0   Ahmad     5.1           Msc\n",
            "1     Ali     6.2            MA\n",
            "2    Omar     5.1           Msc\n",
            "3  Hamzah     5.2           Msc\n",
            "     Name  Height Qualification Address\n",
            "0   Ahmad     5.1           Msc  Nablus\n",
            "1     Ali     6.2            MA  Alquds\n",
            "2    Omar     5.1           Msc    Gaza\n",
            "3  Hamzah     5.2           Msc   Haifa\n"
          ]
        }
      ]
    },
    {
      "cell_type": "code",
      "source": [
        "age= [21, 23, 24, 21]\n",
        "df.insert(2, 'Age1', age)\n",
        "print(df)"
      ],
      "metadata": {
        "colab": {
          "base_uri": "https://localhost:8080/"
        },
        "id": "iT6cJnLr8Tkw",
        "outputId": "31639314-10e0-45ba-e337-3464cb404302"
      },
      "execution_count": null,
      "outputs": [
        {
          "output_type": "stream",
          "name": "stdout",
          "text": [
            "     Name  Height  Age1 Qualification Address  Age  (Age, 3)\n",
            "0   Ahmad     5.1    21           Msc  Nablus   21        21\n",
            "1     Ali     6.2    23            MA  Alquds   23        23\n",
            "2    Omar     5.1    24           Msc    Gaza   24        24\n",
            "3  Hamzah     5.2    21           Msc   Haifa   21        21\n"
          ]
        }
      ]
    },
    {
      "cell_type": "markdown",
      "source": [
        "Example 15: Deleting a column"
      ],
      "metadata": {
        "id": "1sexgY3K9iDq"
      }
    },
    {
      "cell_type": "code",
      "source": [
        "import pandas as pd\n",
        "# Define a dictionary containing Students data\n",
        "data = {'Name': ['Ahmad', 'Ali', 'Omar', 'Hamzah'],\n",
        "\n",
        "'Height': [5.1, 6.2, 5.1, 5.2],\n",
        "'Qualification': ['Msc', 'MA', 'Msc', 'Msc'],\n",
        "'Age': [21, 23, 24, 21]}\n",
        "# Convert the dictionary into DataFrame\n",
        "df = pd.DataFrame(data)\n",
        "print(df)\n",
        "# dropping passed columns\n",
        "df1 = df.drop([\"Height\"], axis = 1)\n",
        "# Observe the result\n",
        "print(df)\n",
        "print(df1)"
      ],
      "metadata": {
        "colab": {
          "base_uri": "https://localhost:8080/"
        },
        "id": "U6Dg3U0e9ino",
        "outputId": "63fe422a-43b1-46d4-8d45-4e6fa2dda9bc"
      },
      "execution_count": null,
      "outputs": [
        {
          "output_type": "stream",
          "name": "stdout",
          "text": [
            "     Name  Height Qualification  Age\n",
            "0   Ahmad     5.1           Msc   21\n",
            "1     Ali     6.2            MA   23\n",
            "2    Omar     5.1           Msc   24\n",
            "3  Hamzah     5.2           Msc   21\n",
            "     Name  Height Qualification  Age\n",
            "0   Ahmad     5.1           Msc   21\n",
            "1     Ali     6.2            MA   23\n",
            "2    Omar     5.1           Msc   24\n",
            "3  Hamzah     5.2           Msc   21\n",
            "     Name Qualification  Age\n",
            "0   Ahmad           Msc   21\n",
            "1     Ali            MA   23\n",
            "2    Omar           Msc   24\n",
            "3  Hamzah           Msc   21\n"
          ]
        }
      ]
    },
    {
      "cell_type": "markdown",
      "source": [
        "Example 16: Adding a new row to the end of the Pandas DataFrame."
      ],
      "metadata": {
        "id": "AGXVwrLX9_9x"
      }
    },
    {
      "cell_type": "code",
      "source": [
        "import pandas as pd\n",
        "technologies= {\n",
        "'Courses':[\"Spark\",\"PySpark\",\"Hadoop\",\"Python\",\"Pandas\"],\n",
        "'Fee' :[22000,25000,23000,24000,26000],\n",
        "'Duration':['30days','50days','35days', '40days','55days'],\n",
        "'Discount':[1000,2300,1000,1200,2500]\n",
        "}\n",
        "df = pd.DataFrame(technologies)\n",
        "print(df)\n",
        "# New list to append Row to DataFrame\n",
        "9\n",
        "list = [\"Hyperion\", 27000, \"60days\", 2000]\n",
        "df.loc[len(df)] = list\n",
        "print(df)"
      ],
      "metadata": {
        "colab": {
          "base_uri": "https://localhost:8080/"
        },
        "id": "QFJyDTVZ-Aoj",
        "outputId": "fc5364de-7389-499e-c445-a2f3395b8866"
      },
      "execution_count": null,
      "outputs": [
        {
          "output_type": "stream",
          "name": "stdout",
          "text": [
            "   Courses    Fee Duration  Discount\n",
            "0    Spark  22000   30days      1000\n",
            "1  PySpark  25000   50days      2300\n",
            "2   Hadoop  23000   35days      1000\n",
            "3   Python  24000   40days      1200\n",
            "4   Pandas  26000   55days      2500\n",
            "    Courses    Fee Duration  Discount\n",
            "0     Spark  22000   30days      1000\n",
            "1   PySpark  25000   50days      2300\n",
            "2    Hadoop  23000   35days      1000\n",
            "3    Python  24000   40days      1200\n",
            "4    Pandas  26000   55days      2500\n",
            "5  Hyperion  27000   60days      2000\n"
          ]
        }
      ]
    },
    {
      "cell_type": "markdown",
      "source": [
        "2.6.3 Deleting row From DataFrame\n"
      ],
      "metadata": {
        "id": "IfAtcGpO-Tzz"
      }
    },
    {
      "cell_type": "code",
      "source": [
        "import pandas as pd\n",
        "import numpy as np\n",
        "technologies = {\n",
        "'Courses':[\"Spark\",\"PySpark\",\"Hadoop\",\"Python\"],\n",
        "'Fee' :[20000,25000,26000,22000],\n",
        "'Duration':['30day','40days',np.nan, None],\n",
        "'Discount':[1000,2300,1500,1200]\n",
        "}\n",
        "indexes=['r1','r2','r3','r4']\n",
        "df = pd.DataFrame(technologies,index=indexes)\n",
        "print(df)\n"
      ],
      "metadata": {
        "colab": {
          "base_uri": "https://localhost:8080/"
        },
        "id": "fwMQM44j-R4w",
        "outputId": "a80af180-5b58-44f2-90ec-7d05ba34c005"
      },
      "execution_count": null,
      "outputs": [
        {
          "output_type": "stream",
          "name": "stdout",
          "text": [
            "    Courses    Fee Duration  Discount\n",
            "r1    Spark  20000    30day      1000\n",
            "r2  PySpark  25000   40days      2300\n",
            "r3   Hadoop  26000      NaN      1500\n",
            "r4   Python  22000     None      1200\n"
          ]
        }
      ]
    },
    {
      "cell_type": "code",
      "source": [
        "df1 = df.drop(['r1','r2'])\n",
        "print(df1)"
      ],
      "metadata": {
        "colab": {
          "base_uri": "https://localhost:8080/"
        },
        "id": "tdVncXK3-1A4",
        "outputId": "e5aff4b5-fddf-4073-de06-3332b9d2a03b"
      },
      "execution_count": null,
      "outputs": [
        {
          "output_type": "stream",
          "name": "stdout",
          "text": [
            "   Courses    Fee Duration  Discount\n",
            "r3  Hadoop  26000      NaN      1500\n",
            "r4  Python  22000     None      1200\n"
          ]
        }
      ]
    },
    {
      "cell_type": "code",
      "source": [
        "df1=df.drop(df.index[[1,3]])\n",
        "print(df1)"
      ],
      "metadata": {
        "colab": {
          "base_uri": "https://localhost:8080/"
        },
        "id": "c5bBQmEt_ShJ",
        "outputId": "c19c6ca9-c608-45d6-8eb5-80dc85043111"
      },
      "execution_count": null,
      "outputs": [
        {
          "output_type": "stream",
          "name": "stdout",
          "text": [
            "   Courses    Fee Duration  Discount\n",
            "r1   Spark  20000    30day      1000\n",
            "r3  Hadoop  26000      NaN      1500\n"
          ]
        }
      ]
    },
    {
      "cell_type": "code",
      "source": [
        "df=df.drop(df.index[0])\n",
        "print(df)"
      ],
      "metadata": {
        "colab": {
          "base_uri": "https://localhost:8080/"
        },
        "id": "TKpQeRp8_c-h",
        "outputId": "92a4918e-91f1-48a1-d174-9e12e41ebaec"
      },
      "execution_count": null,
      "outputs": [
        {
          "output_type": "stream",
          "name": "stdout",
          "text": [
            "   Courses    Fee Duration  Discount\n",
            "r3  Hadoop  26000      NaN      1500\n",
            "r4  Python  22000     None      1200\n"
          ]
        }
      ]
    },
    {
      "cell_type": "markdown",
      "source": [
        "Example 19: Delete Rows with Default Indexes\n"
      ],
      "metadata": {
        "id": "vyi4M86V_uAs"
      }
    },
    {
      "cell_type": "code",
      "source": [
        "df = pd.DataFrame(technologies)\n",
        "df1 = df.drop(0)\n",
        "df3 = df.drop([0, 3])\n",
        "df4 = df.drop(range(0,2))\n",
        "print(df)\n",
        "print(df1)\n",
        "print(df3)\n",
        "print(df4)"
      ],
      "metadata": {
        "colab": {
          "base_uri": "https://localhost:8080/"
        },
        "id": "Dm4qEBRs_tz7",
        "outputId": "30d7eaa7-59bd-4e3f-dcfc-e2defda38c18"
      },
      "execution_count": null,
      "outputs": [
        {
          "output_type": "stream",
          "name": "stdout",
          "text": [
            "   Courses    Fee Duration  Discount\n",
            "0    Spark  20000    30day      1000\n",
            "1  PySpark  25000   40days      2300\n",
            "2   Hadoop  26000      NaN      1500\n",
            "3   Python  22000     None      1200\n",
            "   Courses    Fee Duration  Discount\n",
            "1  PySpark  25000   40days      2300\n",
            "2   Hadoop  26000      NaN      1500\n",
            "3   Python  22000     None      1200\n",
            "   Courses    Fee Duration  Discount\n",
            "1  PySpark  25000   40days      2300\n",
            "2   Hadoop  26000      NaN      1500\n",
            "  Courses    Fee Duration  Discount\n",
            "2  Hadoop  26000      NaN      1500\n",
            "3  Python  22000     None      1200\n"
          ]
        }
      ]
    },
    {
      "cell_type": "markdown",
      "source": [
        "Example 20: Drop Rows by Checking Conditions"
      ],
      "metadata": {
        "id": "nTuTAFpbAfLj"
      }
    },
    {
      "cell_type": "code",
      "source": [
        "# Using drop() to delete rows based on column value\n",
        "df.drop(df[df['Fee'] >= 24000].index, inplace = True)\n",
        "print(df)"
      ],
      "metadata": {
        "colab": {
          "base_uri": "https://localhost:8080/"
        },
        "id": "toNp9mSyAftg",
        "outputId": "ba745804-45cc-40a2-be93-b843bf1a3ca0"
      },
      "execution_count": null,
      "outputs": [
        {
          "output_type": "stream",
          "name": "stdout",
          "text": [
            "  Courses    Fee Duration  Discount\n",
            "0   Spark  20000    30day      1000\n",
            "3  Python  22000     None      1200\n"
          ]
        }
      ]
    },
    {
      "cell_type": "markdown",
      "source": [
        "Task 1.11: delete all rows with Fee >= 2200 and Discount == 2300. Save the result in a\n",
        "file named task.csv"
      ],
      "metadata": {
        "id": "WGK2RnzzA9TT"
      }
    },
    {
      "cell_type": "code",
      "source": [
        "df.drop(df[(df['Fee'] >= 22000)&(df['Discount'] == 2300)].index, inplace = True)\n",
        "print(df)"
      ],
      "metadata": {
        "colab": {
          "base_uri": "https://localhost:8080/"
        },
        "id": "tI_PpiZXA99R",
        "outputId": "9ded4b41-3610-42f1-9bad-ed17c74fefa7"
      },
      "execution_count": null,
      "outputs": [
        {
          "output_type": "stream",
          "name": "stdout",
          "text": [
            "  Courses    Fee Duration  Discount\n",
            "0   Spark  20000    30day      1000\n",
            "2  Hadoop  26000      NaN      1500\n",
            "3  Python  22000     None      1200\n"
          ]
        }
      ]
    },
    {
      "cell_type": "markdown",
      "source": [
        "Task 1.12: Write a code to delete all rows with a Non/NaN value."
      ],
      "metadata": {
        "id": "NR9IEBAUC8T7"
      }
    },
    {
      "cell_type": "code",
      "source": [
        "df_cleaned = df.dropna()\n",
        "print(df_cleaned)"
      ],
      "metadata": {
        "colab": {
          "base_uri": "https://localhost:8080/"
        },
        "id": "wC5Vf-KpC879",
        "outputId": "74db96d7-dd1c-4d1d-acb9-019c1d855219"
      },
      "execution_count": null,
      "outputs": [
        {
          "output_type": "stream",
          "name": "stdout",
          "text": [
            "  Courses    Fee Duration  Discount\n",
            "0   Spark  20000    30day      1000\n"
          ]
        }
      ]
    },
    {
      "cell_type": "code",
      "source": [
        "df = df.drop(df[((df['Courses'] == 'Spark') | (df['Courses'] == 'Hadoop'))])\n",
        "print(df)\n"
      ],
      "metadata": {
        "colab": {
          "base_uri": "https://localhost:8080/",
          "height": 158
        },
        "id": "nR9VtpWbDpLw",
        "outputId": "38167527-f05c-4d4a-beb2-affac48e939a"
      },
      "execution_count": null,
      "outputs": [
        {
          "output_type": "error",
          "ename": "NameError",
          "evalue": "name 'df' is not defined",
          "traceback": [
            "\u001b[0;31m---------------------------------------------------------------------------\u001b[0m",
            "\u001b[0;31mNameError\u001b[0m                                 Traceback (most recent call last)",
            "\u001b[0;32m<ipython-input-2-e1eb4257521b>\u001b[0m in \u001b[0;36m<cell line: 1>\u001b[0;34m()\u001b[0m\n\u001b[0;32m----> 1\u001b[0;31m \u001b[0mdf\u001b[0m \u001b[0;34m=\u001b[0m \u001b[0mdf\u001b[0m\u001b[0;34m.\u001b[0m\u001b[0mdrop\u001b[0m\u001b[0;34m(\u001b[0m\u001b[0mdf\u001b[0m\u001b[0;34m[\u001b[0m\u001b[0;34m(\u001b[0m\u001b[0;34m(\u001b[0m\u001b[0mdf\u001b[0m\u001b[0;34m[\u001b[0m\u001b[0;34m'Courses'\u001b[0m\u001b[0;34m]\u001b[0m \u001b[0;34m==\u001b[0m \u001b[0;34m'Spark'\u001b[0m\u001b[0;34m)\u001b[0m \u001b[0;34m|\u001b[0m \u001b[0;34m(\u001b[0m\u001b[0mdf\u001b[0m\u001b[0;34m[\u001b[0m\u001b[0;34m'Courses'\u001b[0m\u001b[0;34m]\u001b[0m \u001b[0;34m==\u001b[0m \u001b[0;34m'Hadoop'\u001b[0m\u001b[0;34m)\u001b[0m\u001b[0;34m)\u001b[0m\u001b[0;34m]\u001b[0m\u001b[0;34m)\u001b[0m\u001b[0;34m\u001b[0m\u001b[0;34m\u001b[0m\u001b[0m\n\u001b[0m\u001b[1;32m      2\u001b[0m \u001b[0mprint\u001b[0m\u001b[0;34m(\u001b[0m\u001b[0mdf\u001b[0m\u001b[0;34m)\u001b[0m\u001b[0;34m\u001b[0m\u001b[0;34m\u001b[0m\u001b[0m\n",
            "\u001b[0;31mNameError\u001b[0m: name 'df' is not defined"
          ]
        }
      ]
    },
    {
      "cell_type": "markdown",
      "source": [
        "Task 1.13: Write a code to delete all rows having courses equal to Spark or Hadoop."
      ],
      "metadata": {
        "id": "Tjqoa5PJDoYA"
      }
    },
    {
      "cell_type": "code",
      "source": [
        "import pandas as pd\n",
        "# Create two sample DataFrames\n",
        "df1 = pd.DataFrame({'A': ['A0', 'A1', 'A2', 'A3'],\n",
        "'B': ['B0', 'B1', 'B2', 'B3'],\n",
        "'C': ['C0', 'C1', 'C2', 'C3'],\n",
        "'D': ['D0', 'D1', 'D2', 'D3']})\n",
        "df2 = pd.DataFrame({'A': ['A4', 'A5', 'A6', 'A7'],\n",
        "'B': ['B4', 'B5', 'B6', 'B7'],\n",
        "'C': ['C4', 'C5', 'C6', 'C7'],\n",
        "'D': ['D4', 'D5', 'D6', 'D7']})\n",
        "# Concatenate the DataFrames vertically\n",
        "result = pd.concat([df1, df2])\n",
        "print(result)\n"
      ],
      "metadata": {
        "colab": {
          "base_uri": "https://localhost:8080/"
        },
        "id": "uJBmUM5zD9Ul",
        "outputId": "44deef3b-5663-4a8f-d054-6d7536193dc9"
      },
      "execution_count": null,
      "outputs": [
        {
          "output_type": "stream",
          "name": "stdout",
          "text": [
            "    A   B   C   D\n",
            "0  A0  B0  C0  D0\n",
            "1  A1  B1  C1  D1\n",
            "2  A2  B2  C2  D2\n",
            "3  A3  B3  C3  D3\n",
            "0  A4  B4  C4  D4\n",
            "1  A5  B5  C5  D5\n",
            "2  A6  B6  C6  D6\n",
            "3  A7  B7  C7  D7\n"
          ]
        }
      ]
    },
    {
      "cell_type": "markdown",
      "source": [
        "Task 1.14: Perform the concatenation in the above example along columns."
      ],
      "metadata": {
        "id": "XuHN0yNjFsXJ"
      }
    },
    {
      "cell_type": "code",
      "source": [
        "result = pd.concat([df1, df2], axis=1)\n",
        "\n",
        "# Display the result\n",
        "print(result)"
      ],
      "metadata": {
        "colab": {
          "base_uri": "https://localhost:8080/"
        },
        "id": "9t5JSu8GFsBe",
        "outputId": "33b54406-b09e-4bfc-8887-c66e7da9116c"
      },
      "execution_count": null,
      "outputs": [
        {
          "output_type": "stream",
          "name": "stdout",
          "text": [
            "    A   B   C   D   A   B   C   D\n",
            "0  A0  B0  C0  D0  A4  B4  C4  D4\n",
            "1  A1  B1  C1  D1  A5  B5  C5  D5\n",
            "2  A2  B2  C2  D2  A6  B6  C6  D6\n",
            "3  A3  B3  C3  D3  A7  B7  C7  D7\n"
          ]
        }
      ]
    }
  ]
}