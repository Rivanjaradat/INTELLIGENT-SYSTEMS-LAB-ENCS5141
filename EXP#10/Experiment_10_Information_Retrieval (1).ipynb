{
  "nbformat": 4,
  "nbformat_minor": 0,
  "metadata": {
    "colab": {
      "provenance": []
    },
    "kernelspec": {
      "name": "python3",
      "display_name": "Python 3"
    },
    "language_info": {
      "name": "python"
    }
  },
  "cells": [
    {
      "cell_type": "code",
      "execution_count": null,
      "metadata": {
        "colab": {
          "base_uri": "https://localhost:8080/"
        },
        "id": "MDb2FOsb4ypA",
        "outputId": "60dc6a1b-5be1-400b-862d-610e1b129b14"
      },
      "outputs": [
        {
          "output_type": "stream",
          "name": "stdout",
          "text": [
            "Collecting whoosh\n",
            "  Downloading Whoosh-2.7.4-py2.py3-none-any.whl.metadata (3.1 kB)\n",
            "Downloading Whoosh-2.7.4-py2.py3-none-any.whl (468 kB)\n",
            "\u001b[?25l   \u001b[90m━━━━━━━━━━━━━━━━━━━━━━━━━━━━━━━━━━━━━━━━\u001b[0m \u001b[32m0.0/468.8 kB\u001b[0m \u001b[31m?\u001b[0m eta \u001b[36m-:--:--\u001b[0m\r\u001b[2K   \u001b[91m━━━━━━━━━━━━\u001b[0m\u001b[90m╺\u001b[0m\u001b[90m━━━━━━━━━━━━━━━━━━━━━━━━━━━\u001b[0m \u001b[32m143.4/468.8 kB\u001b[0m \u001b[31m3.9 MB/s\u001b[0m eta \u001b[36m0:00:01\u001b[0m\r\u001b[2K   \u001b[90m━━━━━━━━━━━━━━━━━━━━━━━━━━━━━━━━━━━━━━━━\u001b[0m \u001b[32m468.8/468.8 kB\u001b[0m \u001b[31m6.4 MB/s\u001b[0m eta \u001b[36m0:00:00\u001b[0m\n",
            "\u001b[?25hInstalling collected packages: whoosh\n",
            "Successfully installed whoosh-2.7.4\n"
          ]
        }
      ],
      "source": [
        "pip install whoosh"
      ]
    },
    {
      "cell_type": "markdown",
      "source": [
        "# Preparing the data"
      ],
      "metadata": {
        "id": "qz6QJKmb5fcd"
      }
    },
    {
      "cell_type": "code",
      "source": [
        "!kaggle datasets download -d stackoverflow/stacksample\n"
      ],
      "metadata": {
        "colab": {
          "base_uri": "https://localhost:8080/"
        },
        "id": "qXC_VxGJ5kXS",
        "outputId": "4775a21a-eb77-4c24-e434-fb4c959435db"
      },
      "execution_count": null,
      "outputs": [
        {
          "output_type": "stream",
          "name": "stdout",
          "text": [
            "Dataset URL: https://www.kaggle.com/datasets/stackoverflow/stacksample\n",
            "License(s): other\n",
            "Downloading stacksample.zip to /content\n",
            " 99% 1.09G/1.11G [00:13<00:00, 158MB/s]\n",
            "100% 1.11G/1.11G [00:13<00:00, 87.2MB/s]\n"
          ]
        }
      ]
    },
    {
      "cell_type": "code",
      "source": [
        " !unzip stacksample.zip"
      ],
      "metadata": {
        "colab": {
          "base_uri": "https://localhost:8080/"
        },
        "id": "tgOfUlzJ6ICg",
        "outputId": "2463dfd1-4501-473f-cf66-5b480517dfda"
      },
      "execution_count": null,
      "outputs": [
        {
          "output_type": "stream",
          "name": "stdout",
          "text": [
            "Archive:  stacksample.zip\n",
            "  inflating: Answers.csv             \n",
            "  inflating: Questions.csv           \n",
            "  inflating: Tags.csv                \n"
          ]
        }
      ]
    },
    {
      "cell_type": "code",
      "source": [
        " import pandas as pd\n",
        " questions=pd.read_csv(\"Questions.csv\", nrows=20000)\n",
        " questions"
      ],
      "metadata": {
        "colab": {
          "base_uri": "https://localhost:8080/",
          "height": 597
        },
        "id": "MzEsatY45t5_",
        "outputId": "57d3c7c3-2be7-45d0-9f86-bbaa6424ddd8"
      },
      "execution_count": null,
      "outputs": [
        {
          "output_type": "execute_result",
          "data": {
            "text/plain": [
              "            Id  OwnerUserId          CreationDate            ClosedDate  \\\n",
              "0           80         26.0  2008-08-01T13:57:07Z                   NaN   \n",
              "1           90         58.0  2008-08-01T14:41:24Z  2012-12-26T03:45:49Z   \n",
              "2          120         83.0  2008-08-01T15:50:08Z                   NaN   \n",
              "3          180    2089740.0  2008-08-01T18:42:19Z                   NaN   \n",
              "4          260         91.0  2008-08-01T23:22:08Z                   NaN   \n",
              "...        ...          ...                   ...                   ...   \n",
              "19995  1114470      82266.0  2009-07-11T19:37:06Z                   NaN   \n",
              "19996  1114540    2288585.0  2009-07-11T20:16:06Z                   NaN   \n",
              "19997  1114550     131128.0  2009-07-11T20:20:11Z                   NaN   \n",
              "19998  1114580      87271.0  2009-07-11T20:35:46Z                   NaN   \n",
              "19999  1114600      63472.0  2009-07-11T20:41:50Z                   NaN   \n",
              "\n",
              "       Score                                              Title  \\\n",
              "0         26  SQLStatement.execute() - multiple queries in o...   \n",
              "1        144  Good branching and merging tutorials for Torto...   \n",
              "2         21                                  ASP.NET Site Maps   \n",
              "3         53                 Function for creating color wheels   \n",
              "4         49  Adding scripting functionality to .NET applica...   \n",
              "...      ...                                                ...   \n",
              "19995      0       Trim all chars off file name after first \"_\"   \n",
              "19996      7  Xcode question: Quickly jump to a particular s...   \n",
              "19997      3  Serializing a generic collection with XMLSeria...   \n",
              "19998      1            Using Yahoo Fire Eagle on Grails / Java   \n",
              "19999      1  How to share code & xib files between iPhone a...   \n",
              "\n",
              "                                                    Body  \n",
              "0      <p>I've written a database generation script i...  \n",
              "1      <p>Are there any really good tutorials explain...  \n",
              "2      <p>Has anyone got experience creating <strong>...  \n",
              "3      <p>This is something I've pseudo-solved many t...  \n",
              "4      <p>I have a little game written in C#. It uses...  \n",
              "...                                                  ...  \n",
              "19995  <p>I'd like to trim these purchase order file ...  \n",
              "19996  <p>What is the quickest way to jump to a parti...  \n",
              "19997  <p>Why won't XMLSerializer process my generic ...  \n",
              "19998  <p>Has anyone implemented the Yahoo Fire Eagle...  \n",
              "19999  <p>I'm in the process of creating an app.  I'd...  \n",
              "\n",
              "[20000 rows x 7 columns]"
            ],
            "text/html": [
              "\n",
              "  <div id=\"df-f745486f-3e7d-4ff6-9a69-aa8cbdad7a1e\" class=\"colab-df-container\">\n",
              "    <div>\n",
              "<style scoped>\n",
              "    .dataframe tbody tr th:only-of-type {\n",
              "        vertical-align: middle;\n",
              "    }\n",
              "\n",
              "    .dataframe tbody tr th {\n",
              "        vertical-align: top;\n",
              "    }\n",
              "\n",
              "    .dataframe thead th {\n",
              "        text-align: right;\n",
              "    }\n",
              "</style>\n",
              "<table border=\"1\" class=\"dataframe\">\n",
              "  <thead>\n",
              "    <tr style=\"text-align: right;\">\n",
              "      <th></th>\n",
              "      <th>Id</th>\n",
              "      <th>OwnerUserId</th>\n",
              "      <th>CreationDate</th>\n",
              "      <th>ClosedDate</th>\n",
              "      <th>Score</th>\n",
              "      <th>Title</th>\n",
              "      <th>Body</th>\n",
              "    </tr>\n",
              "  </thead>\n",
              "  <tbody>\n",
              "    <tr>\n",
              "      <th>0</th>\n",
              "      <td>80</td>\n",
              "      <td>26.0</td>\n",
              "      <td>2008-08-01T13:57:07Z</td>\n",
              "      <td>NaN</td>\n",
              "      <td>26</td>\n",
              "      <td>SQLStatement.execute() - multiple queries in o...</td>\n",
              "      <td>&lt;p&gt;I've written a database generation script i...</td>\n",
              "    </tr>\n",
              "    <tr>\n",
              "      <th>1</th>\n",
              "      <td>90</td>\n",
              "      <td>58.0</td>\n",
              "      <td>2008-08-01T14:41:24Z</td>\n",
              "      <td>2012-12-26T03:45:49Z</td>\n",
              "      <td>144</td>\n",
              "      <td>Good branching and merging tutorials for Torto...</td>\n",
              "      <td>&lt;p&gt;Are there any really good tutorials explain...</td>\n",
              "    </tr>\n",
              "    <tr>\n",
              "      <th>2</th>\n",
              "      <td>120</td>\n",
              "      <td>83.0</td>\n",
              "      <td>2008-08-01T15:50:08Z</td>\n",
              "      <td>NaN</td>\n",
              "      <td>21</td>\n",
              "      <td>ASP.NET Site Maps</td>\n",
              "      <td>&lt;p&gt;Has anyone got experience creating &lt;strong&gt;...</td>\n",
              "    </tr>\n",
              "    <tr>\n",
              "      <th>3</th>\n",
              "      <td>180</td>\n",
              "      <td>2089740.0</td>\n",
              "      <td>2008-08-01T18:42:19Z</td>\n",
              "      <td>NaN</td>\n",
              "      <td>53</td>\n",
              "      <td>Function for creating color wheels</td>\n",
              "      <td>&lt;p&gt;This is something I've pseudo-solved many t...</td>\n",
              "    </tr>\n",
              "    <tr>\n",
              "      <th>4</th>\n",
              "      <td>260</td>\n",
              "      <td>91.0</td>\n",
              "      <td>2008-08-01T23:22:08Z</td>\n",
              "      <td>NaN</td>\n",
              "      <td>49</td>\n",
              "      <td>Adding scripting functionality to .NET applica...</td>\n",
              "      <td>&lt;p&gt;I have a little game written in C#. It uses...</td>\n",
              "    </tr>\n",
              "    <tr>\n",
              "      <th>...</th>\n",
              "      <td>...</td>\n",
              "      <td>...</td>\n",
              "      <td>...</td>\n",
              "      <td>...</td>\n",
              "      <td>...</td>\n",
              "      <td>...</td>\n",
              "      <td>...</td>\n",
              "    </tr>\n",
              "    <tr>\n",
              "      <th>19995</th>\n",
              "      <td>1114470</td>\n",
              "      <td>82266.0</td>\n",
              "      <td>2009-07-11T19:37:06Z</td>\n",
              "      <td>NaN</td>\n",
              "      <td>0</td>\n",
              "      <td>Trim all chars off file name after first \"_\"</td>\n",
              "      <td>&lt;p&gt;I'd like to trim these purchase order file ...</td>\n",
              "    </tr>\n",
              "    <tr>\n",
              "      <th>19996</th>\n",
              "      <td>1114540</td>\n",
              "      <td>2288585.0</td>\n",
              "      <td>2009-07-11T20:16:06Z</td>\n",
              "      <td>NaN</td>\n",
              "      <td>7</td>\n",
              "      <td>Xcode question: Quickly jump to a particular s...</td>\n",
              "      <td>&lt;p&gt;What is the quickest way to jump to a parti...</td>\n",
              "    </tr>\n",
              "    <tr>\n",
              "      <th>19997</th>\n",
              "      <td>1114550</td>\n",
              "      <td>131128.0</td>\n",
              "      <td>2009-07-11T20:20:11Z</td>\n",
              "      <td>NaN</td>\n",
              "      <td>3</td>\n",
              "      <td>Serializing a generic collection with XMLSeria...</td>\n",
              "      <td>&lt;p&gt;Why won't XMLSerializer process my generic ...</td>\n",
              "    </tr>\n",
              "    <tr>\n",
              "      <th>19998</th>\n",
              "      <td>1114580</td>\n",
              "      <td>87271.0</td>\n",
              "      <td>2009-07-11T20:35:46Z</td>\n",
              "      <td>NaN</td>\n",
              "      <td>1</td>\n",
              "      <td>Using Yahoo Fire Eagle on Grails / Java</td>\n",
              "      <td>&lt;p&gt;Has anyone implemented the Yahoo Fire Eagle...</td>\n",
              "    </tr>\n",
              "    <tr>\n",
              "      <th>19999</th>\n",
              "      <td>1114600</td>\n",
              "      <td>63472.0</td>\n",
              "      <td>2009-07-11T20:41:50Z</td>\n",
              "      <td>NaN</td>\n",
              "      <td>1</td>\n",
              "      <td>How to share code &amp; xib files between iPhone a...</td>\n",
              "      <td>&lt;p&gt;I'm in the process of creating an app.  I'd...</td>\n",
              "    </tr>\n",
              "  </tbody>\n",
              "</table>\n",
              "<p>20000 rows × 7 columns</p>\n",
              "</div>\n",
              "    <div class=\"colab-df-buttons\">\n",
              "\n",
              "  <div class=\"colab-df-container\">\n",
              "    <button class=\"colab-df-convert\" onclick=\"convertToInteractive('df-f745486f-3e7d-4ff6-9a69-aa8cbdad7a1e')\"\n",
              "            title=\"Convert this dataframe to an interactive table.\"\n",
              "            style=\"display:none;\">\n",
              "\n",
              "  <svg xmlns=\"http://www.w3.org/2000/svg\" height=\"24px\" viewBox=\"0 -960 960 960\">\n",
              "    <path d=\"M120-120v-720h720v720H120Zm60-500h600v-160H180v160Zm220 220h160v-160H400v160Zm0 220h160v-160H400v160ZM180-400h160v-160H180v160Zm440 0h160v-160H620v160ZM180-180h160v-160H180v160Zm440 0h160v-160H620v160Z\"/>\n",
              "  </svg>\n",
              "    </button>\n",
              "\n",
              "  <style>\n",
              "    .colab-df-container {\n",
              "      display:flex;\n",
              "      gap: 12px;\n",
              "    }\n",
              "\n",
              "    .colab-df-convert {\n",
              "      background-color: #E8F0FE;\n",
              "      border: none;\n",
              "      border-radius: 50%;\n",
              "      cursor: pointer;\n",
              "      display: none;\n",
              "      fill: #1967D2;\n",
              "      height: 32px;\n",
              "      padding: 0 0 0 0;\n",
              "      width: 32px;\n",
              "    }\n",
              "\n",
              "    .colab-df-convert:hover {\n",
              "      background-color: #E2EBFA;\n",
              "      box-shadow: 0px 1px 2px rgba(60, 64, 67, 0.3), 0px 1px 3px 1px rgba(60, 64, 67, 0.15);\n",
              "      fill: #174EA6;\n",
              "    }\n",
              "\n",
              "    .colab-df-buttons div {\n",
              "      margin-bottom: 4px;\n",
              "    }\n",
              "\n",
              "    [theme=dark] .colab-df-convert {\n",
              "      background-color: #3B4455;\n",
              "      fill: #D2E3FC;\n",
              "    }\n",
              "\n",
              "    [theme=dark] .colab-df-convert:hover {\n",
              "      background-color: #434B5C;\n",
              "      box-shadow: 0px 1px 3px 1px rgba(0, 0, 0, 0.15);\n",
              "      filter: drop-shadow(0px 1px 2px rgba(0, 0, 0, 0.3));\n",
              "      fill: #FFFFFF;\n",
              "    }\n",
              "  </style>\n",
              "\n",
              "    <script>\n",
              "      const buttonEl =\n",
              "        document.querySelector('#df-f745486f-3e7d-4ff6-9a69-aa8cbdad7a1e button.colab-df-convert');\n",
              "      buttonEl.style.display =\n",
              "        google.colab.kernel.accessAllowed ? 'block' : 'none';\n",
              "\n",
              "      async function convertToInteractive(key) {\n",
              "        const element = document.querySelector('#df-f745486f-3e7d-4ff6-9a69-aa8cbdad7a1e');\n",
              "        const dataTable =\n",
              "          await google.colab.kernel.invokeFunction('convertToInteractive',\n",
              "                                                    [key], {});\n",
              "        if (!dataTable) return;\n",
              "\n",
              "        const docLinkHtml = 'Like what you see? Visit the ' +\n",
              "          '<a target=\"_blank\" href=https://colab.research.google.com/notebooks/data_table.ipynb>data table notebook</a>'\n",
              "          + ' to learn more about interactive tables.';\n",
              "        element.innerHTML = '';\n",
              "        dataTable['output_type'] = 'display_data';\n",
              "        await google.colab.output.renderOutput(dataTable, element);\n",
              "        const docLink = document.createElement('div');\n",
              "        docLink.innerHTML = docLinkHtml;\n",
              "        element.appendChild(docLink);\n",
              "      }\n",
              "    </script>\n",
              "  </div>\n",
              "\n",
              "\n",
              "<div id=\"df-49e4f4f8-9fa7-4606-b71f-7e406aebc659\">\n",
              "  <button class=\"colab-df-quickchart\" onclick=\"quickchart('df-49e4f4f8-9fa7-4606-b71f-7e406aebc659')\"\n",
              "            title=\"Suggest charts\"\n",
              "            style=\"display:none;\">\n",
              "\n",
              "<svg xmlns=\"http://www.w3.org/2000/svg\" height=\"24px\"viewBox=\"0 0 24 24\"\n",
              "     width=\"24px\">\n",
              "    <g>\n",
              "        <path d=\"M19 3H5c-1.1 0-2 .9-2 2v14c0 1.1.9 2 2 2h14c1.1 0 2-.9 2-2V5c0-1.1-.9-2-2-2zM9 17H7v-7h2v7zm4 0h-2V7h2v10zm4 0h-2v-4h2v4z\"/>\n",
              "    </g>\n",
              "</svg>\n",
              "  </button>\n",
              "\n",
              "<style>\n",
              "  .colab-df-quickchart {\n",
              "      --bg-color: #E8F0FE;\n",
              "      --fill-color: #1967D2;\n",
              "      --hover-bg-color: #E2EBFA;\n",
              "      --hover-fill-color: #174EA6;\n",
              "      --disabled-fill-color: #AAA;\n",
              "      --disabled-bg-color: #DDD;\n",
              "  }\n",
              "\n",
              "  [theme=dark] .colab-df-quickchart {\n",
              "      --bg-color: #3B4455;\n",
              "      --fill-color: #D2E3FC;\n",
              "      --hover-bg-color: #434B5C;\n",
              "      --hover-fill-color: #FFFFFF;\n",
              "      --disabled-bg-color: #3B4455;\n",
              "      --disabled-fill-color: #666;\n",
              "  }\n",
              "\n",
              "  .colab-df-quickchart {\n",
              "    background-color: var(--bg-color);\n",
              "    border: none;\n",
              "    border-radius: 50%;\n",
              "    cursor: pointer;\n",
              "    display: none;\n",
              "    fill: var(--fill-color);\n",
              "    height: 32px;\n",
              "    padding: 0;\n",
              "    width: 32px;\n",
              "  }\n",
              "\n",
              "  .colab-df-quickchart:hover {\n",
              "    background-color: var(--hover-bg-color);\n",
              "    box-shadow: 0 1px 2px rgba(60, 64, 67, 0.3), 0 1px 3px 1px rgba(60, 64, 67, 0.15);\n",
              "    fill: var(--button-hover-fill-color);\n",
              "  }\n",
              "\n",
              "  .colab-df-quickchart-complete:disabled,\n",
              "  .colab-df-quickchart-complete:disabled:hover {\n",
              "    background-color: var(--disabled-bg-color);\n",
              "    fill: var(--disabled-fill-color);\n",
              "    box-shadow: none;\n",
              "  }\n",
              "\n",
              "  .colab-df-spinner {\n",
              "    border: 2px solid var(--fill-color);\n",
              "    border-color: transparent;\n",
              "    border-bottom-color: var(--fill-color);\n",
              "    animation:\n",
              "      spin 1s steps(1) infinite;\n",
              "  }\n",
              "\n",
              "  @keyframes spin {\n",
              "    0% {\n",
              "      border-color: transparent;\n",
              "      border-bottom-color: var(--fill-color);\n",
              "      border-left-color: var(--fill-color);\n",
              "    }\n",
              "    20% {\n",
              "      border-color: transparent;\n",
              "      border-left-color: var(--fill-color);\n",
              "      border-top-color: var(--fill-color);\n",
              "    }\n",
              "    30% {\n",
              "      border-color: transparent;\n",
              "      border-left-color: var(--fill-color);\n",
              "      border-top-color: var(--fill-color);\n",
              "      border-right-color: var(--fill-color);\n",
              "    }\n",
              "    40% {\n",
              "      border-color: transparent;\n",
              "      border-right-color: var(--fill-color);\n",
              "      border-top-color: var(--fill-color);\n",
              "    }\n",
              "    60% {\n",
              "      border-color: transparent;\n",
              "      border-right-color: var(--fill-color);\n",
              "    }\n",
              "    80% {\n",
              "      border-color: transparent;\n",
              "      border-right-color: var(--fill-color);\n",
              "      border-bottom-color: var(--fill-color);\n",
              "    }\n",
              "    90% {\n",
              "      border-color: transparent;\n",
              "      border-bottom-color: var(--fill-color);\n",
              "    }\n",
              "  }\n",
              "</style>\n",
              "\n",
              "  <script>\n",
              "    async function quickchart(key) {\n",
              "      const quickchartButtonEl =\n",
              "        document.querySelector('#' + key + ' button');\n",
              "      quickchartButtonEl.disabled = true;  // To prevent multiple clicks.\n",
              "      quickchartButtonEl.classList.add('colab-df-spinner');\n",
              "      try {\n",
              "        const charts = await google.colab.kernel.invokeFunction(\n",
              "            'suggestCharts', [key], {});\n",
              "      } catch (error) {\n",
              "        console.error('Error during call to suggestCharts:', error);\n",
              "      }\n",
              "      quickchartButtonEl.classList.remove('colab-df-spinner');\n",
              "      quickchartButtonEl.classList.add('colab-df-quickchart-complete');\n",
              "    }\n",
              "    (() => {\n",
              "      let quickchartButtonEl =\n",
              "        document.querySelector('#df-49e4f4f8-9fa7-4606-b71f-7e406aebc659 button');\n",
              "      quickchartButtonEl.style.display =\n",
              "        google.colab.kernel.accessAllowed ? 'block' : 'none';\n",
              "    })();\n",
              "  </script>\n",
              "</div>\n",
              "\n",
              "  <div id=\"id_0eb4bddb-a9c2-4b61-861e-a321ba130f4e\">\n",
              "    <style>\n",
              "      .colab-df-generate {\n",
              "        background-color: #E8F0FE;\n",
              "        border: none;\n",
              "        border-radius: 50%;\n",
              "        cursor: pointer;\n",
              "        display: none;\n",
              "        fill: #1967D2;\n",
              "        height: 32px;\n",
              "        padding: 0 0 0 0;\n",
              "        width: 32px;\n",
              "      }\n",
              "\n",
              "      .colab-df-generate:hover {\n",
              "        background-color: #E2EBFA;\n",
              "        box-shadow: 0px 1px 2px rgba(60, 64, 67, 0.3), 0px 1px 3px 1px rgba(60, 64, 67, 0.15);\n",
              "        fill: #174EA6;\n",
              "      }\n",
              "\n",
              "      [theme=dark] .colab-df-generate {\n",
              "        background-color: #3B4455;\n",
              "        fill: #D2E3FC;\n",
              "      }\n",
              "\n",
              "      [theme=dark] .colab-df-generate:hover {\n",
              "        background-color: #434B5C;\n",
              "        box-shadow: 0px 1px 3px 1px rgba(0, 0, 0, 0.15);\n",
              "        filter: drop-shadow(0px 1px 2px rgba(0, 0, 0, 0.3));\n",
              "        fill: #FFFFFF;\n",
              "      }\n",
              "    </style>\n",
              "    <button class=\"colab-df-generate\" onclick=\"generateWithVariable('questions')\"\n",
              "            title=\"Generate code using this dataframe.\"\n",
              "            style=\"display:none;\">\n",
              "\n",
              "  <svg xmlns=\"http://www.w3.org/2000/svg\" height=\"24px\"viewBox=\"0 0 24 24\"\n",
              "       width=\"24px\">\n",
              "    <path d=\"M7,19H8.4L18.45,9,17,7.55,7,17.6ZM5,21V16.75L18.45,3.32a2,2,0,0,1,2.83,0l1.4,1.43a1.91,1.91,0,0,1,.58,1.4,1.91,1.91,0,0,1-.58,1.4L9.25,21ZM18.45,9,17,7.55Zm-12,3A5.31,5.31,0,0,0,4.9,8.1,5.31,5.31,0,0,0,1,6.5,5.31,5.31,0,0,0,4.9,4.9,5.31,5.31,0,0,0,6.5,1,5.31,5.31,0,0,0,8.1,4.9,5.31,5.31,0,0,0,12,6.5,5.46,5.46,0,0,0,6.5,12Z\"/>\n",
              "  </svg>\n",
              "    </button>\n",
              "    <script>\n",
              "      (() => {\n",
              "      const buttonEl =\n",
              "        document.querySelector('#id_0eb4bddb-a9c2-4b61-861e-a321ba130f4e button.colab-df-generate');\n",
              "      buttonEl.style.display =\n",
              "        google.colab.kernel.accessAllowed ? 'block' : 'none';\n",
              "\n",
              "      buttonEl.onclick = () => {\n",
              "        google.colab.notebook.generateWithVariable('questions');\n",
              "      }\n",
              "      })();\n",
              "    </script>\n",
              "  </div>\n",
              "\n",
              "    </div>\n",
              "  </div>\n"
            ],
            "application/vnd.google.colaboratory.intrinsic+json": {
              "type": "dataframe",
              "variable_name": "questions",
              "summary": "{\n  \"name\": \"questions\",\n  \"rows\": 20000,\n  \"fields\": [\n    {\n      \"column\": \"Id\",\n      \"properties\": {\n        \"dtype\": \"number\",\n        \"std\": 312137,\n        \"min\": 80,\n        \"max\": 1114600,\n        \"num_unique_values\": 20000,\n        \"samples\": [\n          670540,\n          166550,\n          569110\n        ],\n        \"semantic_type\": \"\",\n        \"description\": \"\"\n      }\n    },\n    {\n      \"column\": \"OwnerUserId\",\n      \"properties\": {\n        \"dtype\": \"number\",\n        \"std\": 227774.20285496666,\n        \"min\": 1.0,\n        \"max\": 3742716.0,\n        \"num_unique_values\": 9783,\n        \"samples\": [\n          125341.0,\n          1327.0,\n          56679.0\n        ],\n        \"semantic_type\": \"\",\n        \"description\": \"\"\n      }\n    },\n    {\n      \"column\": \"CreationDate\",\n      \"properties\": {\n        \"dtype\": \"object\",\n        \"num_unique_values\": 20000,\n        \"samples\": [\n          \"2009-03-22T04:11:59Z\",\n          \"2008-10-03T12:21:24Z\",\n          \"2009-02-20T10:51:35Z\"\n        ],\n        \"semantic_type\": \"\",\n        \"description\": \"\"\n      }\n    },\n    {\n      \"column\": \"ClosedDate\",\n      \"properties\": {\n        \"dtype\": \"date\",\n        \"min\": \"2008-09-24 19:20:10+00:00\",\n        \"max\": \"2016-10-17 10:58:35+00:00\",\n        \"num_unique_values\": 1033,\n        \"samples\": [\n          \"2012-02-01T18:13:55Z\",\n          \"2016-09-26T07:38:44Z\",\n          \"2015-08-18T19:06:36Z\"\n        ],\n        \"semantic_type\": \"\",\n        \"description\": \"\"\n      }\n    },\n    {\n      \"column\": \"Score\",\n      \"properties\": {\n        \"dtype\": \"number\",\n        \"std\": 74,\n        \"min\": -7,\n        \"max\": 5190,\n        \"num_unique_values\": 354,\n        \"samples\": [\n          218,\n          37,\n          117\n        ],\n        \"semantic_type\": \"\",\n        \"description\": \"\"\n      }\n    },\n    {\n      \"column\": \"Title\",\n      \"properties\": {\n        \"dtype\": \"string\",\n        \"num_unique_values\": 19997,\n        \"samples\": [\n          \"C#: \\\"The table 'sometable' cannot be the child table to itself in nested relations.\\\"\",\n          \"How to convert a string to a Guid\",\n          \"Can you recommend a free Task Board/Burndown tool for Windows?\"\n        ],\n        \"semantic_type\": \"\",\n        \"description\": \"\"\n      }\n    },\n    {\n      \"column\": \"Body\",\n      \"properties\": {\n        \"dtype\": \"string\",\n        \"num_unique_values\": 20000,\n        \"samples\": [\n          \"<p>I am using Google code svn and have a repository setup. Inside the repository I am including TinyMCE and now I want to upgrade all the files in this folder.  The problem I am having is if I checkout locally and then download their new version and replace the folder it wipes out all my svn files.  So in effect removes it from version control. </p>\\n\\n<p>I was wondering what is the best method to update those folders &amp; files but keep the svn files intact?  I have been searching but can't seem to locate any simple method. </p>\\n\",\n          \"<p>This is a minor style question, but every bit of readability you add to your code counts.</p>\\n\\n<p>So if you've got:</p>\\n\\n<pre><code>if (condition) then\\n{\\n   // do stuff\\n}\\nelse\\n{\\n   // do other stuff\\n}\\n</code></pre>\\n\\n<p>How do you decide if it's better like that, or like this:</p>\\n\\n<pre><code>   if (!condition) then\\n   {\\n     // do other stuff\\n   {\\n   else\\n   {\\n     // do stuff\\n   }\\n</code></pre>\\n\\n<p>My heuristics are:</p>\\n\\n<ol>\\n<li>Keep the condition positive (less\\nmental calculation when reading it)</li>\\n<li>Put the most common path into the\\nfirst block</li>\\n</ol>\\n\",\n          \"<p>I am observing strange behaviour of std::map::clear(). This method is supposed to call element's destructor when called, however memory is still accessible after call to clear().</p>\\n\\n<p>For example:</p>\\n\\n<pre><code>struct A\\n{\\n  ~A() { x = 0; }\\n  int x;\\n};\\n\\nint main( void )\\n{\\n  std::map&lt; int, A * &gt; my_map;\\n  A *a = new A();\\n  a-&gt;x = 5;\\n  my_map.insert( std::make_pair&lt; int, *A &gt;( 0, a ) );\\n\\n  // addresses will be the same, will print 5\\n  std::cout &lt;&lt; a &lt;&lt; \\\" \\\" &lt;&lt; my_map[0] &lt;&lt; \\\" \\\" &lt;&lt; my_map[0]-&gt;x &lt;&lt; std::endl;\\n\\n  my_map.clear();\\n\\n  // will be 0\\n  std::cout &lt;&lt; a-&gt;x &lt;&lt; std::endl;\\n\\n  return 0;\\n}\\n</code></pre>\\n\\n<p>The question is, why is variable <code>a</code> still accessible after its destructor was called by map::clear()? Do I need to write <code>delete a;</code> after calling <code>my_map.clear()</code> or is it safe to overwrite the contents of <code>a</code>?</p>\\n\\n<p>Thanks in advance for your help,\\nsneg</p>\\n\"\n        ],\n        \"semantic_type\": \"\",\n        \"description\": \"\"\n      }\n    }\n  ]\n}"
            }
          },
          "metadata": {},
          "execution_count": 10
        }
      ]
    },
    {
      "cell_type": "markdown",
      "source": [
        "# The Index and Schema objects"
      ],
      "metadata": {
        "id": "VJfvnzAS5xOL"
      }
    },
    {
      "cell_type": "markdown",
      "source": [
        " Getting started with Whoosh involves creating an index object. When creating an\n",
        " index for the first time, defining its schema is necessary. The schema outlines the\n",
        " f\n",
        " ields within the index, representing different pieces of information for each document.\n",
        " These fields can include the document’s title or its textual content. Each field can be\n",
        " indexed for searchability and/or stored, ensuring that the indexed value is returned\n",
        " with the search results, which is particularly useful for fields like the title.\n",
        " Let’s start by designing the schema for our index."
      ],
      "metadata": {
        "id": "zE6J-5mF6Tvp"
      }
    },
    {
      "cell_type": "code",
      "source": [
        " from whoosh.fields import Schema, TEXT, ID\n",
        " # Defining index schema\n",
        " schema = Schema(Id=ID(stored=True), Title=TEXT(stored=True),\n",
        " Body=TEXT(stored=True))"
      ],
      "metadata": {
        "id": "ngYmFDQP6PD_"
      },
      "execution_count": null,
      "outputs": []
    },
    {
      "cell_type": "markdown",
      "source": [
        " Here we choose 3 columns form the questions dataframe to be used in our index:\n",
        " “Id”, “Title” and “Body” for keyword based search.\n",
        " Now let’s create our index. To index documents we need define folder where to\n",
        " save needed files."
      ],
      "metadata": {
        "id": "BhFOlha26VMk"
      }
    },
    {
      "cell_type": "code",
      "source": [
        " import os.path\n",
        " index_dir = \"indexdir\"\n",
        " if not os.path.exists(index_dir):\n",
        "   os.mkdir(index_dir)"
      ],
      "metadata": {
        "id": "uaVL_9-D6bAZ"
      },
      "execution_count": null,
      "outputs": []
    },
    {
      "cell_type": "markdown",
      "source": [
        "Then we can simply create an index and add documents to be indexed"
      ],
      "metadata": {
        "id": "QecJtYgY6e7E"
      }
    },
    {
      "cell_type": "code",
      "source": [
        " from whoosh.index import create_in\n",
        " from whoosh.index import open_dir\n",
        " # Creating the index\n",
        " ix = create_in(index_dir, schema)\n",
        " # Open the index writer\n",
        " writer = ix.writer()\n",
        " # Iterate over the DataFrame and add documents to the index\n",
        " # we have indexed title, title_body and doc_id\n",
        " for index, row in questions.iterrows():\n",
        "  writer.add_document(Id=str(row['Id']), Title = row['Title'],Body=row['Body'])\n",
        " # Commit and close the writer\n",
        " writer.commit()"
      ],
      "metadata": {
        "id": "aj0_3CEp6fj4"
      },
      "execution_count": null,
      "outputs": []
    },
    {
      "cell_type": "markdown",
      "source": [
        " 1.2.4 How to search\n",
        " Once you’ve created an index and added documents to it, you can search for those\n",
        " documents. The Searcher object is the main high-level interface for reading the\n",
        " index. It has lots of useful methods for getting information about the index, how\n",
        "ever, the most important method on the Searcher object is search(), which takes a\n",
        " whoosh.query.Query object and returns a Results object.\n",
        " Normally the list of result documents is sorted by score. The whoosh.scoring mod\n",
        "ule contains implementations of various scoring algorithms. You can set the scoring\n",
        " object to use when you create the searcher using the weighting keyword argument.\n",
        " The following code search the index we created and rank the results based on the\n",
        " Term Frequency-Inverse Document Frequency (TF-IDF) score."
      ],
      "metadata": {
        "id": "82BGf4FB6hua"
      }
    },
    {
      "cell_type": "code",
      "source": [
        "from whoosh.qparser import QueryParser\n",
        "from whoosh.scoring import TF_IDF\n",
        "from whoosh import scoring\n",
        "qp = QueryParser(\"Title\", schema=schema)\n",
        " # parse the query\n",
        "query_sentence = \"How to install\"\n",
        "query = qp.parse(query_sentence)\n",
        " # create a searcher object\n",
        "searcher_tfidf = ix.searcher(weighting=scoring.TF_IDF())\n",
        " # search documents and store them\n",
        " # we are returing top 3 documents\n",
        "results_tfidf = searcher_tfidf.search(query, limit=3, scored=True)\n",
        " # print the documents\n",
        "for hit in results_tfidf:\n",
        "  print(hit[\"Id\"])\n",
        "  print('\\n')\n",
        "  print(hit[\"Title\"])\n",
        "  print('\\n')\n",
        "  print('------------------\\n')"
      ],
      "metadata": {
        "colab": {
          "base_uri": "https://localhost:8080/"
        },
        "id": "CADCcJNx6neD",
        "outputId": "c9cc6764-a57e-4f84-bea6-97f30415eeab"
      },
      "execution_count": null,
      "outputs": [
        {
          "output_type": "stream",
          "name": "stdout",
          "text": [
            "102850\n",
            "\n",
            "\n",
            "How can I install CPAN modules locally without root access (DynaLoader.pm line 229 error)?\n",
            "\n",
            "\n",
            "------------------\n",
            "\n",
            "145900\n",
            "\n",
            "\n",
            "How can I determine that Windows Installer is performing an upgrade rather than a first time install?\n",
            "\n",
            "\n",
            "------------------\n",
            "\n",
            "351640\n",
            "\n",
            "\n",
            "How to install Hibernate Tools in Eclipse?\n",
            "\n",
            "\n",
            "------------------\n",
            "\n"
          ]
        }
      ]
    },
    {
      "cell_type": "markdown",
      "source": [
        "Task 1: Test the previous search code with different queries. For each one check how\n",
        " many matched results are returned."
      ],
      "metadata": {
        "id": "U1sJRrBz7N9S"
      }
    },
    {
      "cell_type": "code",
      "source": [
        "from whoosh.qparser import QueryParser\n",
        "from whoosh import scoring\n",
        "\n",
        "\n",
        "queries = [\"ASP.NET\", \"Yahoo Fire\", \"How to share\"]\n",
        "\n",
        "\n",
        "searcher_tfidf = ix.searcher(weighting=scoring.TF_IDF())\n",
        "\n",
        "for query_sentence in queries:\n",
        "    print(f\"Query: {query_sentence}\")\n",
        "\n",
        "\n",
        "    qp = QueryParser(\"Title\", schema=schema)\n",
        "    query = qp.parse(query_sentence)\n",
        "\n",
        "\n",
        "    results_tfidf = searcher_tfidf.search(query, limit=10, scored=True)\n",
        "\n",
        "\n",
        "    print(f\"Number of matched results: {len(results_tfidf)}\")\n",
        "    print(\"-\" * 30)\n"
      ],
      "metadata": {
        "colab": {
          "base_uri": "https://localhost:8080/"
        },
        "id": "0rTIcPwwaASl",
        "outputId": "f1af08f2-a72c-4e11-bd45-8cf73da29de2"
      },
      "execution_count": null,
      "outputs": [
        {
          "output_type": "stream",
          "name": "stdout",
          "text": [
            "Query: ASP.NET\n",
            "Number of matched results: 751\n",
            "------------------------------\n",
            "Query: Yahoo Fire\n",
            "Number of matched results: 1\n",
            "------------------------------\n",
            "Query: How to share\n",
            "Number of matched results: 13\n",
            "------------------------------\n"
          ]
        }
      ]
    },
    {
      "cell_type": "markdown",
      "source": [
        " Task 2: Repeat the previous search using the BM25F scoring algorithm, which is used\n",
        " in probabilistic retrieval model. Do you see any difference in the returned results?"
      ],
      "metadata": {
        "id": "Y-Aw2WNc7Ojx"
      }
    },
    {
      "cell_type": "code",
      "source": [
        "from whoosh.qparser import QueryParser\n",
        "from whoosh.scoring import BM25F\n",
        "from whoosh import scoring\n",
        "qp = QueryParser(\"Title\", schema=schema)\n",
        " # parse the query\n",
        "query_sentence = \"How to install\"\n",
        "query = qp.parse(query_sentence)\n",
        " # create a searcher object\n",
        "searcher_bm25f = ix.searcher(weighting=scoring.BM25F())\n",
        " # search documents and store them\n",
        " # we are returing top 3 documents\n",
        "results_bm25f = searcher_bm25f.search(query, limit=3, scored=True)\n",
        " # print the documents\n",
        "for hit in results_bm25f:\n",
        "  print(hit[\"Id\"])\n",
        "  print('\\n')\n",
        "  print(hit[\"Title\"])\n",
        "  print('\\n')\n",
        "  print('------------------\\n')"
      ],
      "metadata": {
        "colab": {
          "base_uri": "https://localhost:8080/"
        },
        "id": "v4De_A-JbefE",
        "outputId": "6c0ae2c3-3db6-4ed9-8abb-8366fa777f0a"
      },
      "execution_count": null,
      "outputs": [
        {
          "output_type": "stream",
          "name": "stdout",
          "text": [
            "921780\n",
            "\n",
            "\n",
            "How to install ImageMagick on MAMP?\n",
            "\n",
            "\n",
            "------------------\n",
            "\n",
            "998260\n",
            "\n",
            "\n",
            "How do you install JDK?\n",
            "\n",
            "\n",
            "------------------\n",
            "\n",
            "351640\n",
            "\n",
            "\n",
            "How to install Hibernate Tools in Eclipse?\n",
            "\n",
            "\n",
            "------------------\n",
            "\n"
          ]
        }
      ]
    },
    {
      "cell_type": "markdown",
      "source": [
        "# 1.2.5 Query expansion\n",
        " query expansion involves evaluating a user’s input (what words were typed into the\n",
        " search query area, and sometimes other types of data) and expanding the search\n",
        " query to match additional documents. Query expansion involves techniques such as:\n",
        " 1. Linguistic query expansion such as finding synonyms of words, and searching\n",
        " for the synonyms as well\n",
        " 2. Corpus-based query expansion, by searching a single query term at a time and\n",
        " counting the most common words in the top returned documents. Repeating\n",
        " this process for all query terms will give you a list of terms that co-occur fre\n",
        "quently with your query terms. Thus, they can be used as to expand the query\n",
        " in the domain of that corpus.\n",
        " 3. Pseudo-relevance feedback, by expanding the original query with the most fre\n",
        "quent terms of the top retrieved documents.\n",
        " Whoosh provides methods for computing the “key terms” of a set of documents.\n",
        " For these methods, “key terms” basically means terms that are frequent in the given\n",
        " documents, but relatively infrequent in the indexed collection as a whole. These\n",
        " methods can be useful for query expansion.\n",
        " For example, the following code retrieve more results similar to the first returned\n",
        " item in the previous example"
      ],
      "metadata": {
        "id": "dCr_VaZe7Sts"
      }
    },
    {
      "cell_type": "code",
      "source": [
        "more_results = results_tfidf[0].more_like_this(\"Title\")\n",
        "for hit in more_results:\n",
        " print(hit[\"Id\"])\n",
        " print('\\n')\n",
        " print(hit[\"Title\"])\n",
        " print('\\n')\n",
        " print('------------------\\n')"
      ],
      "metadata": {
        "colab": {
          "base_uri": "https://localhost:8080/"
        },
        "id": "O3hFjmXK7daI",
        "outputId": "098a15dd-d137-4f86-e011-4de794bfcc64"
      },
      "execution_count": null,
      "outputs": [
        {
          "output_type": "stream",
          "name": "stdout",
          "text": [
            "459590\n",
            "\n",
            "\n",
            "What is the difference betwen including modules and embedding modules?\n",
            "\n",
            "\n",
            "------------------\n",
            "\n",
            "423330\n",
            "\n",
            "\n",
            "Why can't DynaLoader.pm load SSleay.dll for Net::SSLeay and Crypt::SSLeay?\n",
            "\n",
            "\n",
            "------------------\n",
            "\n",
            "540640\n",
            "\n",
            "\n",
            "How can I install a CPAN module into a local directory?\n",
            "\n",
            "\n",
            "------------------\n",
            "\n",
            "172040\n",
            "\n",
            "\n",
            "How do you develop against OpenID locally\n",
            "\n",
            "\n",
            "------------------\n",
            "\n",
            "566290\n",
            "\n",
            "\n",
            "Silverlight Development - Service URL while developing locally\n",
            "\n",
            "\n",
            "------------------\n",
            "\n",
            "766830\n",
            "\n",
            "\n",
            "How can I locally manage C manuals?\n",
            "\n",
            "\n",
            "------------------\n",
            "\n",
            "799860\n",
            "\n",
            "\n",
            "Using Mercurial locally, only with Subversion server\n",
            "\n",
            "\n",
            "------------------\n",
            "\n",
            "852280\n",
            "\n",
            "\n",
            "Ubuntu: \"Could not find rails locally or in a repository\"\n",
            "\n",
            "\n",
            "------------------\n",
            "\n",
            "78900\n",
            "\n",
            "\n",
            "How to check for memory leaks in Guile extension modules?\n",
            "\n",
            "\n",
            "------------------\n",
            "\n",
            "199180\n",
            "\n",
            "\n",
            "Is there any way to get python omnicomplete to work with non-system modules in vim?\n",
            "\n",
            "\n",
            "------------------\n",
            "\n"
          ]
        }
      ]
    },
    {
      "cell_type": "markdown",
      "source": [
        " Wecanalso extract keywords for the top N documents in a whoosh.searching.Results\n",
        " object. This requires that the field is either vectored or stored. For example, to ex\n",
        "tract five key terms from the Title field of the top ten documents of the results object\n",
        " in the previous example"
      ],
      "metadata": {
        "id": "JYy4o5Z27j42"
      }
    },
    {
      "cell_type": "code",
      "source": [
        "keywords = [keyword for keyword, score\n",
        "           in results_tfidf.key_terms(\"Title\", docs=10, numterms=5)]\n",
        "keywords"
      ],
      "metadata": {
        "colab": {
          "base_uri": "https://localhost:8080/"
        },
        "id": "gdHue61i7l_i",
        "outputId": "5c12e61c-88f2-46ab-a8c2-f70d81aa2960"
      },
      "execution_count": null,
      "outputs": [
        {
          "output_type": "execute_result",
          "data": {
            "text/plain": [
              "['install', '229', 'cpan', 'dynaloader.pm', 'locally']"
            ]
          },
          "metadata": {},
          "execution_count": 30
        }
      ]
    },
    {
      "cell_type": "markdown",
      "source": [
        "1.2.6 Evaluating IR systems\n",
        " There are several measures for evaluating IR systems, such as precision, recall and\n",
        " mean average precision (mAP). While precision and recall does not take the rank\n",
        " of the retrieved documents into consideration, mAP considers the order in which\n",
        " documents are ranked. Sometimes precision and recall are computed at cut-off value\n",
        " k of retrieved documents. In this case, it is called precision@k and recall@k, which\n",
        " means precision and recall computed when considering the first k retrieved documents\n",
        " only.\n",
        " In this part we will evaluate our IR system on a toy dataset. This dataset contains\n",
        " a set of documents, set of queries, and list of relevant documents for each query."
      ],
      "metadata": {
        "id": "pAslSZrB7uAl"
      }
    },
    {
      "cell_type": "code",
      "source": [
        " queries = {\n",
        " 'q1': \"machine learning\",\n",
        " 'q2':\"AI algorithms\"\n",
        " }\n",
        " relevance = {\n",
        " 'q1' : [\"doc1\", \"doc2\", \"doc3\"],\n",
        " 'q2' : [\"doc1\", \"doc2\", \"doc3\", \"doc4\", \"doc5\"]\n",
        " }\n",
        " documents = {'doc1': '''Artificial Intelligence (AI) is transforming various industries through automation and advanced algorithms. Machine\n",
        " learning, a subset of AI, enables computers to learn from data and\n",
        " make predictions. Algorithms are at the core of AI systems, guiding\n",
        " decision-making and problem-solving processes. AI-powered systems\n",
        " are increasingly used in healthcare for diagnosis and treatment\n",
        " planning. The ethical implications of AI algorithms, such as bias\n",
        " and fairness, are important considerations in their development.''',\n",
        " 'doc2': '''Deep learning, a branch of machine learning, uses neural\n",
        " networks to process complex data. AI algorithms are capable of\n",
        " analyzing large datasets to extract meaningful insights. Natural\n",
        " Language Processing (NLP) algorithms enable computers to understand\n",
        " and generate human language. AI-driven recommendation algorithms\n",
        " personalize user experiences in e-commerce and content platforms.\n",
        " Ensuring the transparency and accountability of AI algorithms is\n",
        " essential for building trust in AI technologies.''',\n",
        " 'doc3': '''Reinforcement learning algorithms enable AI agents to learn\n",
        " through trial and error interactions with their environment. AI\n",
        " algorithms are used in financial markets for high-frequency trading\n",
        " and risk management. Computer vision algorithms enable machines to\n",
        " interpret and analyze visual information. AI algorithms can enhance\n",
        " cybersecurity by detecting and mitigating cyber threats in\n",
        " real-time. Continuous research and development are essential for\n",
        " advancing AI algorithms and overcoming their limitations.''',\n",
        " 'doc4': '''Evolutionary algorithms, inspired by natural selection, are\n",
        " used to optimize complex systems and processes. AI algorithms play\n",
        " a crucial role in autonomous vehicles for navigation and\n",
        " decision-making. Quantum computing algorithms have the potential to\n",
        " revolutionize AI by solving complex problems exponentially faster.\n",
        " AI algorithms are employed in predictive maintenance to anticipate\n",
        " equipment failures and reduce downtime. Ethical guidelines and\n",
        " regulations are needed to govern the development and deployment of\n",
        " AI algorithms.''',\n",
        " 'doc5': '''Genetic algorithms are used to evolve solutions to\n",
        " optimization and search problems inspired by natural selection. AI\n",
        " algorithms enable personalized content recommendations in streaming\n",
        " services and social media platforms. Swarm intelligence algorithms\n",
        " mimic the collective behavior of social insects to solve\n",
        " optimization problems. AI algorithms are used in drug discovery to\n",
        " accelerate the identification of potential treatments.\n",
        " Collaborative efforts are essential for advancing AI algorithms and\n",
        " harnessing their full potential for societal benefit.'''\n",
        " }"
      ],
      "metadata": {
        "id": "SiSl_Q2YjC9a"
      },
      "execution_count": null,
      "outputs": []
    },
    {
      "cell_type": "code",
      "source": [
        " from whoosh.fields import Schema, TEXT, ID\n",
        " from whoosh.index import create_in\n",
        " from whoosh.index import open_dir\n",
        " # Defining index schema\n",
        " schema = Schema(Id=ID(stored=True), Body=TEXT(stored=True))\n",
        " import os.path\n",
        " index_dir = \"indexdir_toy\"\n",
        " if not os.path.exists(index_dir):\n",
        "  os.mkdir(index_dir)\n",
        " # Creating the index\n",
        " ix = create_in(index_dir, schema)\n",
        " # Open the index writer\n",
        " writer = ix.writer()\n",
        " for doc in documents:\n",
        "  writer.add_document(Id=doc, Body=documents[doc])\n",
        " # Commit and close the writer\n",
        " writer.commit()"
      ],
      "metadata": {
        "id": "kiqqGE8EjkG6"
      },
      "execution_count": null,
      "outputs": []
    },
    {
      "cell_type": "code",
      "source": [
        " from whoosh.qparser import QueryParser\n",
        " from whoosh.scoring import TF_IDF\n",
        " from whoosh import scoring\n",
        " # create the query parser\n",
        " qp = QueryParser(\"Body\", schema=schema)\n",
        " # parse the query\n",
        " query_sentence = queries['q2']\n",
        " query = qp.parse(query_sentence)\n",
        " # create a searcher object\n",
        " searcher_tfidf = ix.searcher(weighting=scoring.TF_IDF())\n",
        " # search documents and store them\n",
        " # we are returing top 3 documents\n",
        " results_tfidf = searcher_tfidf.search(query, limit=3, scored=True)\n",
        " # print the documents\n",
        " for hit in results_tfidf:\n",
        "  print(hit[\"Id\"])\n",
        "  print('\\n')\n",
        "  print(hit[\"Body\"])\n",
        "  print('\\n')\n",
        " print('------------------\\n')"
      ],
      "metadata": {
        "colab": {
          "base_uri": "https://localhost:8080/"
        },
        "id": "znRYNXcUjsgg",
        "outputId": "156c9bdc-eda3-469e-f578-374daacef977"
      },
      "execution_count": null,
      "outputs": [
        {
          "output_type": "stream",
          "name": "stdout",
          "text": [
            "doc3\n",
            "\n",
            "\n",
            "Reinforcement learning algorithms enable AI agents to learn\n",
            "through trial and error interactions with their environment. AI\n",
            "algorithms are used in financial markets for high-frequency trading\n",
            "and risk management. Computer vision algorithms enable machines to\n",
            "interpret and analyze visual information. AI algorithms can enhance\n",
            "cybersecurity by detecting and mitigating cyber threats in\n",
            "real-time. Continuous research and development are essential for\n",
            "advancing AI algorithms and overcoming their limitations.\n",
            "\n",
            "\n",
            "doc4\n",
            "\n",
            "\n",
            "Evolutionary algorithms, inspired by natural selection, are\n",
            "used to optimize complex systems and processes. AI algorithms play\n",
            "a crucial role in autonomous vehicles for navigation and\n",
            "decision-making. Quantum computing algorithms have the potential to\n",
            "revolutionize AI by solving complex problems exponentially faster.\n",
            "AI algorithms are employed in predictive maintenance to anticipate\n",
            "equipment failures and reduce downtime. Ethical guidelines and\n",
            "regulations are needed to govern the development and deployment of\n",
            "AI algorithms.\n",
            "\n",
            "\n",
            "doc1\n",
            "\n",
            "\n",
            "Artificial Intelligence (AI) is transforming various industries through automation and advanced algorithms. Machine\n",
            "learning, a subset of AI, enables computers to learn from data and\n",
            "make predictions. Algorithms are at the core of AI systems, guiding\n",
            "decision-making and problem-solving processes. AI-powered systems\n",
            "are increasingly used in healthcare for diagnosis and treatment\n",
            "planning. The ethical implications of AI algorithms, such as bias\n",
            "and fairness, are important considerations in their development.\n",
            "\n",
            "\n",
            "------------------\n",
            "\n"
          ]
        }
      ]
    },
    {
      "cell_type": "markdown",
      "source": [
        "Task 3: Compute the precision and recall for the retrieved documents in the previous\n",
        " example."
      ],
      "metadata": {
        "id": "hzMLUuW_l56C"
      }
    },
    {
      "cell_type": "code",
      "source": [
        "relevant_docs = relevance['q2']\n",
        "\n",
        "# Retrieved documents\n",
        "retrieved_docs = [hit[\"Id\"] for hit in results_tfidf]\n",
        "\n",
        "# Precision calculation\n",
        "precision = len(set(relevant_docs) & set(retrieved_docs)) / len(retrieved_docs)\n",
        "\n",
        "# Recall calculation\n",
        "recall = len(set(relevant_docs) & set(retrieved_docs)) / len(relevant_docs)\n",
        "\n",
        "# Output results\n",
        "print(f\"Precision: {precision:.2f}\")\n",
        "print(f\"Recall: {recall:.2f}\")"
      ],
      "metadata": {
        "colab": {
          "base_uri": "https://localhost:8080/"
        },
        "id": "GMlySh4GmJ5S",
        "outputId": "400389d2-98ee-41dc-8b67-c41b672b1a10"
      },
      "execution_count": null,
      "outputs": [
        {
          "output_type": "stream",
          "name": "stdout",
          "text": [
            "Precision: 1.00\n",
            "Recall: 0.60\n"
          ]
        }
      ]
    },
    {
      "cell_type": "markdown",
      "source": [
        "Task 4: Modify the last code to test all queries and then report the precision and\n",
        " recall."
      ],
      "metadata": {
        "id": "jKHwwTK5l6jw"
      }
    },
    {
      "cell_type": "code",
      "source": [
        "def calculate_precision_recall(query, relevant_docs):\n",
        "    qp = QueryParser(\"Body\", schema=schema)\n",
        "    query_parsed = qp.parse(query)\n",
        "\n",
        "    # TF-IDF scoring\n",
        "    searcher_tfidf = ix.searcher(weighting=TF_IDF())\n",
        "    results_tfidf = searcher_tfidf.search(query_parsed, limit=3, scored=True)\n",
        "\n",
        "    # Retrieved documents\n",
        "    retrieved_docs = [hit[\"Id\"] for hit in results_tfidf]\n",
        "\n",
        "    # Calculate precision\n",
        "    precision = len(set(relevant_docs) & set(retrieved_docs)) / len(retrieved_docs)\n",
        "\n",
        "    # Calculate recall\n",
        "    recall = len(set(relevant_docs) & set(retrieved_docs)) / len(relevant_docs)\n",
        "\n",
        "    return precision, recall"
      ],
      "metadata": {
        "id": "u6xInOhlm0TG"
      },
      "execution_count": null,
      "outputs": []
    },
    {
      "cell_type": "code",
      "source": [
        "results = {}\n",
        "for query_key in queries:\n",
        "    query = queries[query_key]\n",
        "    relevant_docs = relevance[query_key]\n",
        "    precision, recall = calculate_precision_recall(query, relevant_docs)\n",
        "    results[query_key] = (precision, recall)\n",
        "\n",
        "\n",
        "# Report results\n",
        "for query_key in results:\n",
        "    precision, recall = results[query_key]\n",
        "    print(f\"Query '{query_key}': Precision = {precision:.2f}, Recall = {recall:.2f}\")"
      ],
      "metadata": {
        "colab": {
          "base_uri": "https://localhost:8080/"
        },
        "id": "ovcSjphEmzij",
        "outputId": "3db722a1-37ec-4188-bd4d-074e0a0ff0ff"
      },
      "execution_count": null,
      "outputs": [
        {
          "output_type": "stream",
          "name": "stdout",
          "text": [
            "Query 'q1': Precision = 1.00, Recall = 0.67\n",
            "Query 'q2': Precision = 1.00, Recall = 0.60\n"
          ]
        }
      ]
    }
  ]
}